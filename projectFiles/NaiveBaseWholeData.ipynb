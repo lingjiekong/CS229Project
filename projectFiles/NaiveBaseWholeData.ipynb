{
 "cells": [
  {
   "cell_type": "code",
   "execution_count": 1,
   "metadata": {
    "collapsed": false
   },
   "outputs": [],
   "source": [
    "import pandas as pd\n",
    "import numpy as np"
   ]
  },
  {
   "cell_type": "code",
   "execution_count": 3,
   "metadata": {
    "collapsed": false
   },
   "outputs": [],
   "source": [
    "trainLoad = pd.read_csv(\"clicks_train.csv\")\n",
    "testLoad = pd.read_csv(\"clicks_test.csv\")"
   ]
  },
  {
   "cell_type": "code",
   "execution_count": null,
   "metadata": {
    "collapsed": false
   },
   "outputs": [],
   "source": [
    "# train = trainLoad[0:1000001]\n",
    "train = trainLoad\n",
    "test = trainLoad[1000002:1000002+10000]\n",
    "displayid = 1\n",
    "totalDis = dict()\n",
    "eachDis = []\n",
    "totalLen = len(train)\n",
    "for i in range(totalLen):\n",
    "    if (train.loc[i][\"display_id\"] == displayid):\n",
    "        eachDis.append((train.loc[i][\"ad_id\"], train.loc[i][\"clicked\"]))\n",
    "    else:\n",
    "        totalDis[displayid] = eachDis  \n",
    "        displayid += 1\n",
    "        eachDis = list()\n",
    "        eachDis.append((train.loc[i][\"ad_id\"], train.loc[i][\"clicked\"]))"
   ]
  },
  {
   "cell_type": "code",
   "execution_count": 52,
   "metadata": {
    "collapsed": false
   },
   "outputs": [],
   "source": [
    "# better method to count and the original one is wrong!! log(1/7) + log(2/5) ... log(1+2/5+7)\n",
    "# import\n",
    "import math\n",
    "# create space\n",
    "trainResult = dict()\n",
    "lengthDisplayCount = dict()\n",
    "clickAdCount = dict()\n",
    "# count without laplace smoothing\n",
    "for eachDisIndex in totalDis:\n",
    "    for eachAd in totalDis[eachDisIndex]:\n",
    "        if eachAd[0] not in lengthDisplayCount:\n",
    "            lengthDisplayCount[eachAd[0]] = len(totalDis[eachDisIndex])\n",
    "            clickAdCount[eachAd[0]] = eachAd[1]\n",
    "        else:\n",
    "            lengthDisplayCount[eachAd[0]] += len(totalDis[eachDisIndex])\n",
    "            clickAdCount[eachAd[0]] += eachAd[1]\n",
    "# normalize \n",
    "for eachIndex in lengthDisplayCount:\n",
    "    if clickAdCount[eachIndex] == 0:\n",
    "        trainResult[eachIndex] = -float('inf')\n",
    "    else:\n",
    "        trainResult[eachIndex] = math.log(float(clickAdCount[eachIndex])/float(lengthDisplayCount[eachIndex]))\n"
   ]
  },
  {
   "cell_type": "code",
   "execution_count": 53,
   "metadata": {
    "collapsed": false
   },
   "outputs": [],
   "source": [
    "# use naive base to make prediction\n",
    "import random\n",
    "from copy import deepcopy\n",
    "\n",
    "\n",
    "# add click column into test\n",
    "testResult = deepcopy(test)\n",
    "testLen = len(testResult)\n",
    "for i in range(0,testLen):\n",
    "    testResult.set_value(i+1000002, 'clicked', 0)\n",
    "    \n",
    "# del testResult['clicked']\n",
    "# testLen = len(testResult)\n",
    "# clicks = [0]*testLen\n",
    "# seriesDesired = pd.Series(clicks)\n",
    "# testResult['clicked'] = seriesDesired\n",
    "\n",
    "# make preduction for test\n",
    "# get first display ID\n",
    "displayID = testResult.loc[1000002+0][\"display_id\"]\n",
    "# set maxProb to be -inf\n",
    "maxPro = -float('inf')\n",
    "maxset = []\n",
    "\n",
    "# # loop to find the prection for testResult\n",
    "for i in range(testLen):\n",
    "    if displayID == testResult.loc[1000002+i][\"display_id\"]:\n",
    "        # the same displayID\n",
    "        adID = testResult.loc[1000002+i]['ad_id']\n",
    "        if adID in trainResult:\n",
    "            # if such value get trained\n",
    "            pro = trainResult[adID]\n",
    "        else:\n",
    "            # if such value does not get trained\n",
    "            pro = -float('inf')\n",
    "        # find the maximum ad to click\n",
    "        if pro > maxPro:\n",
    "            maxPro = pro\n",
    "            maxset = []\n",
    "            maxset.append((1000002+i, adID))\n",
    "        elif pro == maxPro:\n",
    "            maxset.append((1000002+i, adID))\n",
    "    else:\n",
    "        # different displayID\n",
    "        # find the max for last\n",
    "        if len(maxset) == 1:\n",
    "            maxvalue = maxset[0]\n",
    "            index = maxvalue[0]\n",
    "        else:\n",
    "            maxvalue = random.sample(maxset, 1)\n",
    "            index = maxvalue[0][0]\n",
    "        testResult.set_value(index, 'clicked', 1)\n",
    "                \n",
    "        # start next\n",
    "        adID = testResult.loc[1000002+i]['ad_id']\n",
    "        if adID in trainResult:\n",
    "            # if such value get trained\n",
    "            pro = trainResult[adID]\n",
    "        else:\n",
    "            # if such value does not get trained\n",
    "            pro = -float('inf')\n",
    "        maxPro = pro\n",
    "        maxset = []\n",
    "        maxset.append((i+1000002, adID))\n",
    "        displayID = testResult.loc[1000002+i][\"display_id\"]\n",
    "    if i == testLen-1:\n",
    "        if len(maxset) == 1:\n",
    "            maxvalue = maxset[0]\n",
    "            index = maxvalue[0]\n",
    "        else:\n",
    "            maxvalue = random.sample(maxset, 1)\n",
    "            index = maxvalue[0][0]\n",
    "        testResult.set_value(index, 'clicked', 1)   \n",
    "\n"
   ]
  },
  {
   "cell_type": "code",
   "execution_count": 57,
   "metadata": {
    "collapsed": true
   },
   "outputs": [],
   "source": [
    "# random guess\n",
    "import random\n",
    "from copy import deepcopy\n",
    "\n",
    "# add click column into test\n",
    "testResult = deepcopy(test)\n",
    "testLen = len(testResult)\n",
    "for i in range(0,testLen):\n",
    "    testResult.set_value(i+1000002, 'clicked', 0)\n",
    "    \n",
    "# get first display ID\n",
    "displayID = testResult.loc[1000002+0][\"display_id\"]\n",
    "# set maxProb to be -inf\n",
    "maxPro = -float('inf')\n",
    "maxset = []\n",
    "\n",
    "# # loop to find the prection for testResult\n",
    "for i in range(testLen):\n",
    "    if displayID == testResult.loc[1000002+i][\"display_id\"]:\n",
    "        maxset.append((1000002+i, adID))\n",
    "    else:\n",
    "        # different displayID\n",
    "        maxvalue = random.sample(maxset, 1)\n",
    "        index = maxvalue[0][0]\n",
    "        testResult.set_value(index, 'clicked', 1)   \n",
    "        # start next\n",
    "        maxPro = pro\n",
    "        maxset = []\n",
    "        maxset.append((i+1000002, adID))\n",
    "        displayID = testResult.loc[1000002+i][\"display_id\"]\n",
    "    if i == testLen-1:\n",
    "        maxvalue = random.sample(maxset, 1)\n",
    "        index = maxvalue[0][0]\n",
    "        testResult.set_value(index, 'clicked', 1)   \n",
    "\n"
   ]
  },
  {
   "cell_type": "code",
   "execution_count": 58,
   "metadata": {
    "collapsed": false
   },
   "outputs": [
    {
     "name": "stdout",
     "output_type": "stream",
     "text": [
      "0.215291750503\n"
     ]
    }
   ],
   "source": [
    "displayID = testResult.loc[1000002+0][\"display_id\"]\n",
    "totalCount = 0\n",
    "count = 0\n",
    "for i in range(testLen):\n",
    "    if testResult.loc[1000002+i][\"clicked\"] == test.loc[1000002+i][\"clicked\"] and test.loc[1000002+i][\"clicked\"] == 1:\n",
    "        count += 1\n",
    "    if displayID != testResult.loc[1000002+i][\"display_id\"]:\n",
    "        totalCount += 1\n",
    "        displayID = testResult.loc[1000002+i][\"display_id\"]\n",
    "print float(count)/float(totalCount)\n",
    "    "
   ]
  },
  {
   "cell_type": "code",
   "execution_count": 60,
   "metadata": {
    "collapsed": true
   },
   "outputs": [],
   "source": [
    "import numpy as np\n",
    "import matplotlib.pyplot as plt"
   ]
  },
  {
   "cell_type": "code",
   "execution_count": 72,
   "metadata": {
    "collapsed": false
   },
   "outputs": [
    {
     "data": {
      "image/png": "[encoded data removed]",
      "text/plain": [
       "<matplotlib.figure.Figure at 0x2b292438>"
      ]
     },
     "metadata": {},
     "output_type": "display_data"
    }
   ],
   "source": [
    "# make plot for poster\n",
    "x = [0, 5002, 10002, 50005, 100008, 500011, 1000001, 2000002]\n",
    "y = [0, 0.2484909, 0.2449698, 0.2650905, 0.3073440, 0.3616700, 0.4361667, 0.4743460]\n",
    "yGuess = [0, 0.15, 0.14, 0.16, 0.17, 0.17, 0.17, 0.17]\n",
    "xArray = np.array(x, np.int32)\n",
    "yArray = np.array(y, np.float)\n",
    "yGuessArray = np.array(yGuess, np.float)\n",
    "plt.plot(xArray, yArray, label='Naive Base')\n",
    "plt.plot(xArray, yGuessArray, label='Random Guess')\n",
    "plt.legend(loc='lower right')\n",
    "plt.xlabel('Number of Samples')\n",
    "plt.ylabel('Percentage of Accuracy')\n",
    "plt.title('Accuracy vs. Number of Samples')\n",
    "plt.show()"
   ]
  }
 ],
 "metadata": {
  "anaconda-cloud": {},
  "kernelspec": {
   "display_name": "Python [default]",
   "language": "python",
   "name": "python2"
  },
  "language_info": {
   "codemirror_mode": {
    "name": "ipython",
    "version": 2
   },
   "file_extension": ".py",
   "mimetype": "text/x-python",
   "name": "python",
   "nbconvert_exporter": "python",
   "pygments_lexer": "ipython2",
   "version": "2.7.12"
  }
 },
 "nbformat": 4,
 "nbformat_minor": 1
}
