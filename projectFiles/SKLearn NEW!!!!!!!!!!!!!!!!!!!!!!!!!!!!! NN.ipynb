{
 "cells": [
  {
   "cell_type": "code",
   "execution_count": 1,
   "metadata": {
    "collapsed": true
   },
   "outputs": [],
   "source": [
    "# load training result get from preprocess.py module\n",
    "import json\n",
    "with open('ad2Adv.json', 'r') as fp:\n",
    "    ad2AdvStr = json.load(fp)\n",
    "\n",
    "with open('ad2Cam.json', 'r') as fp:\n",
    "    ad2CamStr = json.load(fp)\n",
    "\n",
    "with open('finalDis2Doc.json', 'r') as fp:\n",
    "    finalDis2DocStr = json.load(fp)\n",
    "    \n",
    "with open('finalDoc2Cate.json', 'r') as fp:\n",
    "    finalDoc2CateStr = json.load(fp) \n",
    "\n",
    "with open('finalDoc2Topic.json', 'r') as fp:\n",
    "    finalDoc2TopicStr = json.load(fp)  \n",
    "    \n",
    "with open('finalDoc2Meta.json', 'r') as fp:\n",
    "    finalDoc2MetaStr = json.load(fp)  \n",
    "    \n",
    "with open('finalData.json', 'r') as fp:\n",
    "    finalDataStr = json.load(fp) "
   ]
  },
  {
   "cell_type": "code",
   "execution_count": 2,
   "metadata": {
    "collapsed": true
   },
   "outputs": [],
   "source": [
    "# convert str dict to value dict\n",
    "ad2Adv = dict()\n",
    "for each in ad2AdvStr:\n",
    "    ad2Adv[float(each)] = float(ad2AdvStr[each])\n",
    "\n",
    "ad2Cam = dict()\n",
    "for each in ad2CamStr:\n",
    "    ad2Cam[float(each)] = float(ad2CamStr[each])\n",
    "    \n",
    "finalDis2Doc = dict()\n",
    "for each in finalDis2DocStr:\n",
    "    finalDis2Doc[float(each)] = float(finalDis2DocStr[each])\n",
    "    \n",
    "finalDoc2Cate = dict()\n",
    "for each in finalDoc2CateStr:\n",
    "    finalDoc2Cate[float(each)] = float(finalDoc2CateStr[each])\n",
    "    \n",
    "finalDoc2Topic = dict()\n",
    "for each in finalDoc2TopicStr:\n",
    "    finalDoc2Topic[float(each)] = float(finalDoc2TopicStr[each])\n",
    "    \n",
    "finalDoc2Meta = dict()\n",
    "for each in finalDoc2MetaStr:\n",
    "    finalDoc2Meta[float(each)] = float(finalDoc2MetaStr[each])\n",
    "    \n",
    "finalData = dict()\n",
    "for each in finalDataStr:\n",
    "    finalData[float(each)] = eval(finalDataStr[each])"
   ]
  },
  {
   "cell_type": "code",
   "execution_count": 3,
   "metadata": {
    "collapsed": false
   },
   "outputs": [],
   "source": [
    "# split train and test\n",
    "trainData = dict()\n",
    "testData = dict()\n",
    "count = 0\n",
    "threshold = 2782\n",
    "for i in finalData:\n",
    "    if count < 2782:\n",
    "        trainData[i] = finalData[i]\n",
    "    else:\n",
    "        testData[i] = finalData[i]\n",
    "    count += 1"
   ]
  },
  {
   "cell_type": "code",
   "execution_count": 4,
   "metadata": {
    "collapsed": false
   },
   "outputs": [],
   "source": [
    "# get click count\n",
    "# create ad2ClickTrain Dict()\n",
    "ad2ClickTrain = dict()\n",
    "for dis in trainData:\n",
    "#     print dis\n",
    "    for adTuple in trainData[dis]:\n",
    "#         print adTuple\n",
    "        adID = adTuple[0]\n",
    "        adClick = adTuple[1]\n",
    "        if adID not in ad2ClickTrain:\n",
    "            ad2ClickTrain[adID] = adClick + 1\n",
    "        else:\n",
    "            ad2ClickTrain[adID] += adClick"
   ]
  },
  {
   "cell_type": "code",
   "execution_count": 5,
   "metadata": {
    "collapsed": false
   },
   "outputs": [],
   "source": [
    "# create adv2ClickTrain Dict()        \n",
    "adv2Click = dict()\n",
    "cam2Click = dict()\n",
    "ad2Click = ad2ClickTrain\n",
    "for each in ad2ClickTrain:\n",
    "    adID = each\n",
    "    adv = ad2Adv[adID]\n",
    "    cam = ad2Cam[adID]\n",
    "    if adv not in adv2Click:\n",
    "        adv2Click[adv] = ad2ClickTrain[adID]\n",
    "    else:\n",
    "        adv2Click[adv] += ad2ClickTrain[adID]\n",
    "        \n",
    "    if cam not in cam2Click:\n",
    "        cam2Click[cam] = ad2ClickTrain[adID]\n",
    "    else:\n",
    "        cam2Click[cam] += ad2ClickTrain[adID]\n"
   ]
  },
  {
   "cell_type": "code",
   "execution_count": 6,
   "metadata": {
    "collapsed": false
   },
   "outputs": [],
   "source": [
    "advSet = set()\n",
    "camSet = set()\n",
    "adSet = set()\n",
    "delDis = []\n",
    "for dis in trainData:\n",
    "    for adTuple in trainData[dis]:\n",
    "        adID = adTuple[0]\n",
    "        y = adTuple[1]\n",
    "        adv = ad2Adv[adID]\n",
    "        cam = ad2Cam[adID]\n",
    "        advSet.add(adv)\n",
    "        camSet.add(cam)\n",
    "        adSet.add(adID)\n",
    "testAdNum = []\n",
    "testAdNum.append(0)\n",
    "sumLen = 0\n",
    "yFlag = 0\n",
    "for dis in testData:\n",
    "    newTestSet = []\n",
    "    yFlag = 0\n",
    "    for adTuple in testData[dis]:\n",
    "        adID = adTuple[0]\n",
    "        y = adTuple[1]\n",
    "        if adID in adSet:\n",
    "            newTestSet.append(adTuple)\n",
    "            if y == 1:\n",
    "                yFlag = 1\n",
    "    if yFlag == 1 and len(newTestSet) != 0:\n",
    "        testData[dis] = newTestSet\n",
    "        sumLen += len(newTestSet)     \n",
    "        testAdNum.append(sumLen)\n",
    "#         print dis, testData[dis]\n",
    "    else:\n",
    "        delDis.append(dis)\n",
    "# delete others that not satisfy\n",
    "for dis in delDis:\n",
    "    del testData[dis]\n",
    "\n",
    "#         advSet.add(adv)\n",
    "#         camSet.add(cam)\n",
    "# adSet.add(adID)"
   ]
  },
  {
   "cell_type": "code",
   "execution_count": 7,
   "metadata": {
    "collapsed": false
   },
   "outputs": [],
   "source": [
    "# create index to adv and cam mapping\n",
    "adv2Index = dict()\n",
    "cam2Index = dict()\n",
    "ad2Index = dict()\n",
    "advCount = 0\n",
    "for adv in (advSet):\n",
    "    adv2Index[adv] = advCount\n",
    "    advCount += 1\n",
    "camCount = advCount\n",
    "for cam in (camSet):\n",
    "    cam2Index[cam] = camCount\n",
    "    camCount += 1\n",
    "adCount = camCount\n",
    "for ad in (adSet):\n",
    "    ad2Index[ad] = adCount\n",
    "    adCount += 1"
   ]
  },
  {
   "cell_type": "code",
   "execution_count": 10,
   "metadata": {
    "collapsed": false
   },
   "outputs": [
    {
     "name": "stdout",
     "output_type": "stream",
     "text": [
      "12301\n",
      "12301\n"
     ]
    }
   ],
   "source": [
    "print adCount\n",
    "print len(advSet)+len(camSet)+len(adSet)"
   ]
  },
  {
   "cell_type": "code",
   "execution_count": 9,
   "metadata": {
    "collapsed": false
   },
   "outputs": [],
   "source": [
    "# prepaare zero matrix\n",
    "xTrainSet = []\n",
    "yTrainSet = []\n",
    "xTestSet = []\n",
    "yTestSet = []\n",
    "eachSet = []\n",
    "adTrainCount = 0\n",
    "adTestCount = 0\n",
    "for i in range(len(advSet)+len(camSet)+len(adSet)):\n",
    "    eachSet.append(0)\n",
    "# for i in range()\n",
    "for dis in trainData:\n",
    "    for adTuple in trainData[dis]:\n",
    "        adTrainCount += 1\n",
    "for dis in testData:\n",
    "    for adTuple in testData[dis]:\n",
    "        adTestCount += 1\n",
    "for i in range(adTrainCount):\n",
    "    xTrainSet.append(eachSet)\n",
    "    yTrainSet.append(0)\n",
    "for i in range(adTestCount):\n",
    "    xTestSet.append(eachSet)\n",
    "    yTestSet.append(0)\n",
    "    \n",
    "import numpy as np\n",
    "# train\n",
    "# convert set x and y to matrix x and y\n",
    "xTrain = np.array(xTrainSet, np.int32)\n",
    "yTrain = np.array(yTrainSet, np.int32)\n",
    "\n",
    "# test\n",
    "# convert set x and y to matrix x and y\n",
    "xTest = np.array(xTestSet, np.int32)\n",
    "yTest = np.array(yTestSet, np.int32)"
   ]
  },
  {
   "cell_type": "code",
   "execution_count": 11,
   "metadata": {
    "collapsed": false
   },
   "outputs": [],
   "source": [
    "# make indicator now\n",
    "count = 0\n",
    "for dis in trainData:\n",
    "    for adTuple in trainData[dis]:\n",
    "        adID = adTuple[0]\n",
    "        y = adTuple[1]\n",
    "        if y == 0:\n",
    "            y = -1\n",
    "        adv = ad2Adv[adID]\n",
    "        cam = ad2Cam[adID]\n",
    "        # assign y value\n",
    "        yTrain[count] = y\n",
    "        # assign x value\n",
    "        advIndex = adv2Index[adv]\n",
    "        camIndex = cam2Index[cam]\n",
    "        adIndex = ad2Index[adID]\n",
    "        xTrain[count][advIndex] = adv2Click[adv]\n",
    "        xTrain[count][camIndex] = 1 # cam2Click[cam]\n",
    "        xTrain[count][adIndex] = ad2Click[adID]\n",
    "        count += 1\n",
    "        \n",
    "count = 0\n",
    "for dis in testData:\n",
    "    for adTuple in testData[dis]:\n",
    "        adID = adTuple[0]\n",
    "        y = adTuple[1]\n",
    "        if y == 0:\n",
    "            y = -1\n",
    "        adv = ad2Adv[adID]\n",
    "        cam = ad2Cam[adID]\n",
    "        # assign y value\n",
    "        yTest[count] = y\n",
    "        # assign x value\n",
    "        advIndex = adv2Index[adv]\n",
    "        camIndex = cam2Index[cam]\n",
    "        adIndex = ad2Index[adID]\n",
    "        xTest[count][advIndex] = adv2Click[adv]\n",
    "        xTest[count][camIndex] = 1 # cam2Click[cam]\n",
    "        xTest[count][adIndex] = ad2Click[ad]\n",
    "#         if adv in adv2Click:\n",
    "#             xTest[count][advIndex] = adv2Click[adv] + 1\n",
    "#         else:\n",
    "#             xTest[count][advIndex] = 1\n",
    "#         if cam in cam2Click:\n",
    "#             xTest[count][camIndex] = cam2Click[cam] + 1\n",
    "#         else:\n",
    "#             xTest[count][camIndex] = 1\n",
    "#         if adID in ad2Click:\n",
    "#             xTest[count][adIndex] = ad2Click[ad] + 1\n",
    "#         else:\n",
    "#             xTest[count][adIndex] = 1\n",
    "        \n",
    "        count += 1\n",
    "\n",
    "# split test until each display ID\n",
    "xTestDict = dict()\n",
    "yTestDict = dict()\n",
    "xTestDict[0] = xTest[0:7,:]\n",
    "for i in range(len(testAdNum)-1):\n",
    "    xTestDict[i] = xTest[testAdNum[i]:testAdNum[i+1],:]\n",
    "    yTestDict[i] = yTest[testAdNum[i]:testAdNum[i+1]]"
   ]
  },
  {
   "cell_type": "code",
   "execution_count": 12,
   "metadata": {
    "collapsed": false
   },
   "outputs": [
    {
     "name": "stdout",
     "output_type": "stream",
     "text": [
      "Automatically created module for IPython interactive environment\n"
     ]
    }
   ],
   "source": [
    "print(__doc__)\n",
    "\n",
    "import random\n",
    "import numpy as np\n",
    "import matplotlib.pyplot as plt\n",
    "from sklearn import linear_model, datasets\n",
    "from sklearn import svm\n",
    "from sklearn.ensemble import RandomForestClassifier"
   ]
  },
  {
   "cell_type": "code",
   "execution_count": 13,
   "metadata": {
    "collapsed": false
   },
   "outputs": [],
   "source": [
    "# # h = .2  # step size in the mesh\n",
    "# # clf = linear_model.LogisticRegression(C=1e5)\n",
    "# # clf = svm.SVC(probability=True)\n",
    "# clf = RandomForestClassifier(n_estimators=10)\n",
    "# clf.fit(xTrain, yTrain)\n",
    "# totalCount = 0\n",
    "# correctCount = 0\n",
    "\n",
    "# for dis in xTestDict:\n",
    "#     matrixSize = (xTestDict[dis]).shape\n",
    "#     row = matrixSize[0]\n",
    "#     maxProb = -float('inf')\n",
    "#     prob  = 0\n",
    "#     loc = 0\n",
    "#     maxSet = []\n",
    "# #     print 'oneDis'\n",
    "#     for i in range(row):\n",
    "#         eachX = xTestDict[dis][i,:]\n",
    "#         #  X.reshape(1, -1) if it contains a single sample\n",
    "#         eachX = eachX.reshape(1, -1)\n",
    "#         allProb = clf.predict_proba(eachX)\n",
    "#         prob = allProb[0][1]\n",
    "#         # make prediction\n",
    "#         if prob > maxProb:\n",
    "#             maxProb = prob\n",
    "#             maxSet = []\n",
    "#             maxSet.append(i)\n",
    "# #             print 'break'\n",
    "#         elif prob == maxProb:\n",
    "#             maxSet.append(i)\n",
    "# #             print 'tie'\n",
    "# #     print maxSet\n",
    "#     # if tie pick one random\n",
    "#     if len(maxSet) == 1:\n",
    "#         loc = maxSet[0]\n",
    "#     else:\n",
    "#         loc = random.sample(maxSet, 1)\n",
    "#     # get the accuracy\n",
    "#     if yTestDict[dis][loc] == 1:\n",
    "#         correctCount += 1\n",
    "#     totalCount += 1\n",
    "        \n",
    "# print float(correctCount)/totalCount"
   ]
  },
  {
   "cell_type": "code",
   "execution_count": 18,
   "metadata": {
    "collapsed": false
   },
   "outputs": [
    {
     "name": "stdout",
     "output_type": "stream",
     "text": [
      "0.315104166667\n"
     ]
    }
   ],
   "source": [
    "# NN Trial 1\n",
    "from sklearn.neural_network import MLPClassifier\n",
    "import random\n",
    "# Network Parameters\n",
    "clf = MLPClassifier(hidden_layer_sizes=(100,100), solver='lbfgs', \n",
    "                    activation='tanh', learning_rate='adaptive', \n",
    "                    random_state=1, batch_size=200)\n",
    "\n",
    "# training\n",
    "clf.fit(xTrain, yTrain)\n",
    "\n",
    "# testing \n",
    "corretCount = 0\n",
    "totalCount = 0\n",
    "for i in range(len(xTestDict)):\n",
    "    maxSet = []\n",
    "    pred = 0\n",
    "    maxPred = -float('inf')\n",
    "    yPred = clf.predict_proba(xTestDict[i])\n",
    "    yTruth = yTestDict[i]\n",
    "    maxSet = []\n",
    "    for j in range(len(yPred)):\n",
    "        pred = yPred[j][1]\n",
    "        if pred > maxPred:\n",
    "            maxSet = []\n",
    "            maxSet.append(j)\n",
    "            maxPred = pred\n",
    "        elif pred == maxPred:\n",
    "            maxSet.append(j)\n",
    "    if (len(maxSet) == 1):\n",
    "        maxIndex = 0\n",
    "    else: \n",
    "        maxIndex = random.choice(maxSet)\n",
    "    # prediction count\n",
    "    if (yTruth[maxIndex]) == 1:\n",
    "        corretCount += 1\n",
    "    totalCount += 1\n",
    "# print out final result\n",
    "print float(corretCount)/float(totalCount)"
   ]
  }
 ],
 "metadata": {
  "anaconda-cloud": {},
  "kernelspec": {
   "display_name": "Python [default]",
   "language": "python",
   "name": "python2"
  },
  "language_info": {
   "codemirror_mode": {
    "name": "ipython",
    "version": 2
   },
   "file_extension": ".py",
   "mimetype": "text/x-python",
   "name": "python",
   "nbconvert_exporter": "python",
   "pygments_lexer": "ipython2",
   "version": "2.7.12"
  }
 },
 "nbformat": 4,
 "nbformat_minor": 1
}
