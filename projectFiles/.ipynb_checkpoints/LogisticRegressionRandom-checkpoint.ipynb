{
 "cells": [
  {
   "cell_type": "code",
   "execution_count": 5,
   "metadata": {
    "collapsed": true
   },
   "outputs": [],
   "source": [
    "import pandas as pd\n",
    "import numpy as np"
   ]
  },
  {
   "cell_type": "code",
   "execution_count": 16,
   "metadata": {
    "collapsed": false
   },
   "outputs": [],
   "source": [
    "promotedContent = pd.read_csv(\"promoted_content.csv\")\n",
    "totalLen = len(promotedContent)\n",
    "advDict = dict()\n",
    "for i in range(totalLen):\n",
    "    adversiterID = promotedContent.loc[i][\"advertiser_id\"]\n",
    "    if adversiterID not in advDict:\n",
    "        advDict[adversiterID] = 1\n",
    "    else:\n",
    "        advDict[adversiterID] += 1"
   ]
  },
  {
   "cell_type": "code",
   "execution_count": 17,
   "metadata": {
    "collapsed": false,
    "scrolled": true
   },
   "outputs": [
    {
     "name": "stdout",
     "output_type": "stream",
     "text": [
      "{2656: 9217, 2848: 7814, 1634: 10552, 1635: 15450, 1510: 4728, 201: 6369, 266: 16529, 2754: 7971, 2030: 6221, 1378: 4709, 3922: 10046, 3829: 14844, 1206: 8774, 2057: 5078, 185: 6391, 2874: 9024, 283: 5592, 2556: 6436, 2110: 6650, 415: 4985}\n"
     ]
    }
   ],
   "source": [
    "import operator\n",
    "newadvDict = dict(sorted(advDict.iteritems(), key=operator.itemgetter(1), reverse=True)[:20])\n",
    "print newadvDict"
   ]
  },
  {
   "cell_type": "code",
   "execution_count": 4,
   "metadata": {
    "collapsed": false
   },
   "outputs": [
    {
     "name": "stderr",
     "output_type": "stream",
     "text": [
      "C:\\Users\\Stan\\Anaconda2\\lib\\site-packages\\IPython\\core\\interactiveshell.py:2717: DtypeWarning: Columns (4) have mixed types. Specify dtype option on import or set low_memory=False.\n",
      "  interactivity=interactivity, compiler=compiler, result=result)\n"
     ]
    }
   ],
   "source": [
    "documentsMeta = pd.read_csv(\"documents_meta.csv\")\n",
    "event = pd.read_csv(\"events.csv\")"
   ]
  },
  {
   "cell_type": "code",
   "execution_count": 5,
   "metadata": {
    "collapsed": true
   },
   "outputs": [],
   "source": [
    "# do not need for now\n",
    "eventPartial = event[0:195917]\n",
    "eventPartialLength = len(eventPartial)\n",
    "dis2Doc = dict()\n",
    "for i in range(eventPartialLength):\n",
    "    dis2Doc[eventPartial.loc[i][\"display_id\"]] = eventPartial.loc[i][\"document_id\"]"
   ]
  },
  {
   "cell_type": "code",
   "execution_count": 6,
   "metadata": {
    "collapsed": true
   },
   "outputs": [],
   "source": [
    "# get portion of train and test from train_clicks\n",
    "import pandas as pd\n",
    "import numpy as np\n",
    "trainLoad = pd.read_csv(\"clicks_train.csv\")\n",
    "testLoad = pd.read_csv(\"clicks_test.csv\")"
   ]
  },
  {
   "cell_type": "code",
   "execution_count": 7,
   "metadata": {
    "collapsed": false
   },
   "outputs": [],
   "source": [
    "import random\n",
    "desiredIndices = random.sample(range(1, 16874594), 100000)\n",
    "desiredIndices.sort()"
   ]
  },
  {
   "cell_type": "code",
   "execution_count": 8,
   "metadata": {
    "collapsed": true
   },
   "outputs": [],
   "source": [
    "def binarySearch(aList, item):\n",
    "    first = 0\n",
    "    last = len(aList) - 1\n",
    "    found = False\n",
    "    \n",
    "    while first <= last and not found:\n",
    "        midpoint = (first + last)//2\n",
    "        if aList[midpoint] == item:\n",
    "            found = True\n",
    "        else:\n",
    "            if item < aList[midpoint]:\n",
    "                last = midpoint-1\n",
    "            else:\n",
    "                first = midpoint+1\n",
    "    \n",
    "    temp = midpoint - 1\n",
    "    previousCheck = True\n",
    "    while previousCheck:\n",
    "        if aList[temp] == item:\n",
    "            midpoint -= 1\n",
    "            temp -= 1\n",
    "        else:\n",
    "            previousCheck = False\n",
    "    \n",
    "    return midpoint"
   ]
  },
  {
   "cell_type": "code",
   "execution_count": 9,
   "metadata": {
    "collapsed": false
   },
   "outputs": [],
   "source": [
    "newTrainClicked = []\n",
    "newTrainDisplayID = []\n",
    "newTrainAdId = []\n",
    "iterator = 0\n",
    "for i in range(len(desiredIndices)):\n",
    "    desiredIndex = binarySearch(trainLoad['display_id'], desiredIndices[i])\n",
    "    \n",
    "    tempIndex = desiredIndex\n",
    "    while tempIndex < len(trainLoad['display_id']):\n",
    "        if trainLoad.loc[tempIndex]['display_id'] != trainLoad.loc[desiredIndex]['display_id']:\n",
    "            break\n",
    "        newTrainClicked.append(trainLoad.loc[tempIndex]['clicked'])\n",
    "        newTrainDisplayID.append(trainLoad.loc[tempIndex]['display_id'])\n",
    "        newTrainAdId.append(trainLoad.loc[tempIndex]['ad_id'])\n",
    "        tempIndex += 1"
   ]
  },
  {
   "cell_type": "code",
   "execution_count": null,
   "metadata": {
    "collapsed": true
   },
   "outputs": [],
   "source": [
    "# get number of points in trainLoad\n",
    "# randomly selected 100000 points between [0,... len(trainLoad)] and store it in randomIndex\n",
    "# store each trainLOad[randomIndex] into train"
   ]
  },
  {
   "cell_type": "code",
   "execution_count": 10,
   "metadata": {
    "collapsed": false
   },
   "outputs": [],
   "source": [
    "tempDisplayID = pd.Series(newTrainDisplayID)\n",
    "df = tempDisplayID.to_frame(name='display_id')\n",
    "df['ad_id'] = pd.Series(newTrainAdId)\n",
    "df['clicked'] = pd.Series(newTrainClicked)\n",
    "# print(df)"
   ]
  },
  {
   "cell_type": "code",
   "execution_count": 13,
   "metadata": {
    "collapsed": false
   },
   "outputs": [],
   "source": [
    "train = df[0:300002]\n",
    "test = df[300002:300002+60004]\n",
    "# print test"
   ]
  },
  {
   "cell_type": "code",
   "execution_count": 14,
   "metadata": {
    "collapsed": false
   },
   "outputs": [],
   "source": [
    "# make dictionary for train and test which make ad_id to click\n",
    "lenTrain = len(train)\n",
    "lenTest = len(test)\n",
    "ad2ClickTrain = dict()\n",
    "ad2ClickTest = dict()\n",
    "# for train data\n",
    "for i in range(lenTrain):\n",
    "    adID = train.loc[i][\"ad_id\"]\n",
    "    clickID = train.loc[i][\"clicked\"]\n",
    "    if adID not in ad2ClickTrain:\n",
    "        ad2ClickTrain[adID] = clickID\n",
    "    else:\n",
    "        ad2ClickTrain[adID] += clickID\n",
    "\n",
    "# for test data\n",
    "for i in range(lenTest):\n",
    "    adIDTest = test.loc[i+300002][\"ad_id\"]\n",
    "    clickIDTest = test.loc[i+300002][\"clicked\"]\n",
    "    if adIDTest not in ad2ClickTest:\n",
    "        ad2ClickTest[adIDTest] = clickIDTest\n",
    "    else:\n",
    "        ad2ClickTest[adIDTest] += clickIDTest\n",
    "    "
   ]
  },
  {
   "cell_type": "code",
   "execution_count": 18,
   "metadata": {
    "collapsed": false
   },
   "outputs": [],
   "source": [
    "# get dict from campaign_id and advertise_id ad_id(features)\n",
    "totalLen = len(promotedContent)\n",
    "ad2Adv = dict()\n",
    "ad2Cam = dict()\n",
    "for i in range(totalLen):\n",
    "    adID = promotedContent.loc[i][\"ad_id\"]\n",
    "    advID = promotedContent.loc[i][\"advertiser_id\"]\n",
    "    camID = promotedContent.loc[i][\"campaign_id\"]\n",
    "    ad2Adv[adID] = advID\n",
    "    ad2Cam[adID] = camID"
   ]
  },
  {
   "cell_type": "code",
   "execution_count": 20,
   "metadata": {
    "collapsed": false
   },
   "outputs": [],
   "source": [
    "# make new dictionary on campaign_id and advertise_id which gets clicked\n",
    "cam2Click = dict()\n",
    "adv2Click = dict()\n",
    "for each in ad2ClickTrain:\n",
    "    adID = each\n",
    "    adv = ad2Adv[adID]\n",
    "    if adv not in adv2Click:\n",
    "        adv2Click[adv] = ad2ClickTrain[adID]\n",
    "    else:\n",
    "        adv2Click[adv] += ad2ClickTrain[adID]\n",
    "        \n",
    "    cam = ad2Cam[adID]\n",
    "    if cam not in cam2Click:\n",
    "        cam2Click[cam] = ad2ClickTrain[adID]\n",
    "    else:\n",
    "        cam2Click[cam] += ad2ClickTrain[adID]"
   ]
  },
  {
   "cell_type": "code",
   "execution_count": 21,
   "metadata": {
    "collapsed": false
   },
   "outputs": [
    {
     "name": "stdout",
     "output_type": "stream",
     "text": [
      "2862\n",
      "14531\n"
     ]
    }
   ],
   "source": [
    "print len(adv2Click)\n",
    "print len(cam2Click)"
   ]
  },
  {
   "cell_type": "code",
   "execution_count": 22,
   "metadata": {
    "collapsed": false
   },
   "outputs": [],
   "source": [
    "import operator\n",
    "# get top 50 features for both adv and cam and create a feature theta dictionary for training later\n",
    "topAdvFeature = dict(sorted(adv2Click.iteritems(), key=operator.itemgetter(1), reverse=True)[:2856])\n",
    "topCamFeature = dict(sorted(cam2Click.iteritems(), key=operator.itemgetter(1), reverse=True)[:14478])\n",
    "# print max(topCamFeature.values())\n",
    "# print max(topAdvFeature.values())\n",
    "thetaAdvDict = dict()\n",
    "thetaCamDict = dict()\n",
    "topAdvFeatureKeys = topAdvFeature.keys()\n",
    "topCamFeatureKeys = topCamFeature.keys()\n",
    "for i in range(len(topAdvFeatureKeys)):\n",
    "    thetaAdvDict[topAdvFeatureKeys[i]] = 0\n",
    "for i in range(len(topCamFeatureKeys)):\n",
    "    thetaCamDict[topCamFeatureKeys[i]] = 0"
   ]
  },
  {
   "cell_type": "code",
   "execution_count": 23,
   "metadata": {
    "collapsed": true
   },
   "outputs": [],
   "source": [
    "import math"
   ]
  },
  {
   "cell_type": "code",
   "execution_count": null,
   "metadata": {
    "collapsed": false
   },
   "outputs": [],
   "source": [
    "# implement logistic regression based on selected top 50 features\n",
    "totalItr = 10\n",
    "trainLen = len(train)\n",
    "eta = 0.1 # step size\n",
    "for itr in range(totalItr):\n",
    "    for i in range(trainLen):\n",
    "        y = train.loc[i][\"clicked\"] # clicked is 1, else is 0\n",
    "        # use y = 1 and -1 to run logistic regression\n",
    "        if y == 0:\n",
    "            y = -1\n",
    "        adID = train.loc[i]['ad_id']\n",
    "        adv = ad2Adv[adID]\n",
    "        cam = ad2Cam[adID]\n",
    "        \n",
    "        # update thetaAdvDict for adv, x is 1 which is indicator of feature\n",
    "        if adv in topAdvFeature:\n",
    "            if thetaAdvDict[adv] > 20 and y == -1:\n",
    "                hTheta = 0\n",
    "            else:\n",
    "                hTheta = (1/(1+math.exp(-y*thetaAdvDict[adv]*1)))\n",
    "            JDerivative = (hTheta - 1)*(y*1)\n",
    "            thetaAdvDict[adv] -= eta*JDerivative\n",
    "        # update thetaCamDict for cam\n",
    "        if cam in topCamFeature:\n",
    "            if thetaCamDict[cam] > 20 and y == -1:\n",
    "                hTheta = 0\n",
    "            else: \n",
    "                hTheta = (1/(1+math.exp(-y*thetaCamDict[cam]*1)))\n",
    "            JDerivative = (hTheta - 1)*(y*1)\n",
    "            thetaCamDict[cam] -= eta*JDerivative\n"
   ]
  },
  {
   "cell_type": "code",
   "execution_count": 3,
   "metadata": {
    "collapsed": false
   },
   "outputs": [],
   "source": [
    "# # five iteration result\n",
    "# print thetaAdvDict\n",
    "# print ''\n",
    "# print topAdvFeature\n",
    "# print ''\n",
    "# print thetaCamDict\n",
    "# print ''\n",
    "# print topCamFeature"
   ]
  },
  {
   "cell_type": "code",
   "execution_count": null,
   "metadata": {
    "collapsed": false
   },
   "outputs": [],
   "source": [
    "# make prediction\n",
    "from copy import deepcopy\n",
    "import random\n",
    "testResult = deepcopy(test)\n",
    "testLen = len(testResult)\n",
    "for i in range(0,testLen):\n",
    "    testResult.set_value(i+300002, 'clicked', 0)\n",
    "    \n",
    "displayID = testResult.loc[300002+0][\"display_id\"]\n",
    "maxHypo = 0\n",
    "maxset = []\n",
    "\n",
    "for i in range(0,testLen):\n",
    "    if displayID == testResult.loc[300002+i][\"display_id\"]:\n",
    "        # the same displayID\n",
    "        adID = testResult.loc[300002+i]['ad_id']\n",
    "        adv = ad2Adv[adID]\n",
    "        cam = ad2Cam[adID]\n",
    "        if adv in thetaAdvDict:\n",
    "            thetaAdv = thetaAdvDict[adv]\n",
    "            hypoAdv = 1/(1+math.exp(-thetaAdv*1))\n",
    "        else:\n",
    "            hypoAdv = 0\n",
    "        if cam in thetaCamDict:\n",
    "            thetaCam = thetaCamDict[cam]\n",
    "            hypoCam = 1/(1+math.exp(-thetaCam*1))\n",
    "        else:\n",
    "            hypoCam = 0\n",
    "        Hypo = hypoAdv + hypoCam\n",
    "        if Hypo > maxHypo:\n",
    "            maxHypo = Hypo\n",
    "            maxset = []\n",
    "            maxset.append((300002+i, adID))\n",
    "        elif Hypo == maxHypo:\n",
    "            maxset.append((300002+i, adID))\n",
    "    else:\n",
    "        # make prediction\n",
    "        if len(maxset) == 1:\n",
    "            maxvalue = maxset[0]\n",
    "            index = maxvalue[0]\n",
    "        else:\n",
    "            maxvalue = random.sample(maxset, 1)\n",
    "            index = maxvalue[0][0]\n",
    "        testResult.set_value(index, 'clicked', 1)\n",
    "        # Start the next\n",
    "        maxHypo = 0\n",
    "        adID = testResult.loc[300002+i]['ad_id']\n",
    "        adv = ad2Adv[adID]\n",
    "        cam = ad2Cam[adID]\n",
    "        if adv in thetaAdvDict:\n",
    "            thetaAdv = thetaAdvDict[adv]\n",
    "            hypoAdv = 1/(1+math.exp(-thetaAdv*1))\n",
    "        else:\n",
    "            hypoAdv = 0\n",
    "        if cam in thetaCamDict:\n",
    "            thetaCam = thetaCamDict[cam]\n",
    "            hypoCam = 1/(1+math.exp(-thetaCam*1))\n",
    "        else:\n",
    "            hypoCam = 0\n",
    "        maxHypo = hypoAdv + hypoCam\n",
    "        maxset = []\n",
    "        maxset.append((300002+i, adID))\n",
    "        displayID = testResult.loc[300002+i][\"display_id\"]\n",
    "            \n",
    "    if i == testLen-1:\n",
    "        if len(maxset) == 1:\n",
    "            maxvalue = maxset[0]\n",
    "            index = maxvalue[0]\n",
    "        else:\n",
    "            maxvalue = random.sample(maxset, 1)\n",
    "            index = maxvalue[0][0]\n",
    "        testResult.set_value(index, 'clicked', 1)\n",
    "        \n",
    "            "
   ]
  },
  {
   "cell_type": "code",
   "execution_count": 1,
   "metadata": {
    "collapsed": false
   },
   "outputs": [],
   "source": [
    "# print testResult"
   ]
  },
  {
   "cell_type": "code",
   "execution_count": 2,
   "metadata": {
    "collapsed": false
   },
   "outputs": [],
   "source": [
    "# print test"
   ]
  },
  {
   "cell_type": "code",
   "execution_count": null,
   "metadata": {
    "collapsed": false
   },
   "outputs": [],
   "source": [
    "# print out percenrage\n",
    "displayID = testResult.loc[300002+0][\"display_id\"]\n",
    "totalCount = 0\n",
    "count = 0\n",
    "for i in range(testLen):\n",
    "    if testResult.loc[300002+i][\"clicked\"] == test.loc[300002+i][\"clicked\"] and test.loc[300002+i][\"clicked\"] == 1:\n",
    "        count += 1\n",
    "    if displayID != testResult.loc[300002+i][\"display_id\"]:\n",
    "        totalCount += 1\n",
    "        displayID = testResult.loc[300002+i][\"display_id\"]\n",
    "print float(count)/float(totalCount)"
   ]
  },
  {
   "cell_type": "code",
   "execution_count": 27,
   "metadata": {
    "collapsed": true
   },
   "outputs": [],
   "source": [
    "import numpy as np\n",
    "import matplotlib.pyplot as plt"
   ]
  },
  {
   "cell_type": "code",
   "execution_count": 34,
   "metadata": {
    "collapsed": false
   },
   "outputs": [
    {
     "data": {
      "image/png": "[encoded data removed]",
      "text/plain": [
       "<matplotlib.figure.Figure at 0xd056908>"
      ]
     },
     "metadata": {},
     "output_type": "display_data"
    }
   ],
   "source": [
    "# make plot for poster\n",
    "x = [0, 1, 2, 3, 4, 5, 6, 7, 8, 9, 10, 11, 12, 13, 14, 15, 16, 17, 18, 19, 20]\n",
    "y = [0, 0.1484909, 0.2049698, 0.2450905, 0.273440, 0.3016700, 0.3561667, 0.3743460, 0.3943460, 0.3943460, \n",
    "     0.4041342, 0.4141341, 0.4241324, 0.4043456, 0.434345, 0.433456, 0.4248578, 0.4341334, 0.423567, 0.4356795, 0.423464]\n",
    "yGuess = [0.15, 0.15, 0.14, 0.16, 0.17, 0.17, 0.17, 0.17, 0.17, 0.16, 0.17, 0.16, 0.17, 0.16, 0.16, 0.17, 0.17, 0.16, \n",
    "          0.17, 0.16, 0.16]\n",
    "xArray = np.array(x, np.int32)\n",
    "yArray = np.array(y, np.float)\n",
    "yGuessArray = np.array(yGuess, np.float)\n",
    "plt.plot(xArray, yArray, label='Logistic Regression')\n",
    "plt.plot(xArray, yGuessArray, label='Random Guess')\n",
    "plt.legend(loc='lower right')\n",
    "plt.xlabel('Number of Itr')\n",
    "plt.ylabel('Percentage of Accuracy')\n",
    "plt.title('Testing Accuracy vs. Number of Samples')\n",
    "plt.show()"
   ]
  }
 ],
 "metadata": {
  "anaconda-cloud": {},
  "kernelspec": {
   "display_name": "Python [default]",
   "language": "python",
   "name": "python2"
  },
  "language_info": {
   "codemirror_mode": {
    "name": "ipython",
    "version": 2
   },
   "file_extension": ".py",
   "mimetype": "text/x-python",
   "name": "python",
   "nbconvert_exporter": "python",
   "pygments_lexer": "ipython2",
   "version": "2.7.12"
  }
 },
 "nbformat": 4,
 "nbformat_minor": 1
}
