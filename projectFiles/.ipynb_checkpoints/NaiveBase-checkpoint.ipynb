{
 "cells": [
  {
   "cell_type": "code",
   "execution_count": 5,
   "metadata": {
    "collapsed": false
   },
   "outputs": [],
   "source": [
    "import pandas as pd\n",
    "import numpy as np"
   ]
  },
  {
   "cell_type": "code",
   "execution_count": 6,
   "metadata": {
    "collapsed": false
   },
   "outputs": [],
   "source": [
    "trainLoad = pd.read_csv(\"clicks_train.csv\")\n",
    "testLoad = pd.read_csv(\"clicks_test.csv\")"
   ]
  },
  {
   "cell_type": "code",
   "execution_count": 7,
   "metadata": {
    "collapsed": false
   },
   "outputs": [],
   "source": [
    "# train = trainLoad[0:1000001]\n",
    "train = trainLoad[0:1000002]\n",
    "test = trainLoad[1000002:1000002+10000]\n",
    "displayid = 1\n",
    "totalDis = dict()\n",
    "eachDis = []\n",
    "totalLen = len(train)\n",
    "for i in range(totalLen):\n",
    "    if (train.loc[i][\"display_id\"] == displayid):\n",
    "        eachDis.append((train.loc[i][\"ad_id\"], train.loc[i][\"clicked\"]))\n",
    "    else:\n",
    "        totalDis[displayid] = eachDis  \n",
    "        displayid += 1\n",
    "        eachDis = list()\n",
    "        eachDis.append((train.loc[i][\"ad_id\"], train.loc[i][\"clicked\"]))"
   ]
  },
  {
   "cell_type": "code",
   "execution_count": 8,
   "metadata": {
    "collapsed": false
   },
   "outputs": [],
   "source": [
    "# print totalDis"
   ]
  },
  {
   "cell_type": "code",
   "execution_count": 22,
   "metadata": {
    "collapsed": false
   },
   "outputs": [],
   "source": [
    "# import math\n",
    "# trainResult = dict()\n",
    "# for eachDisIndex in totalDis:\n",
    "#     for eachAd in totalDis[eachDisIndex]:\n",
    "#         if eachAd not in trainResult:\n",
    "#             trainResult[eachAd[0]] = math.log(float(eachAd[1]+1)/float(len(totalDis[eachDisIndex])+1))\n",
    "#         else:\n",
    "#             trainResult[eachAd[0]] += math.log(float(eachAd[1]+1)/float(len(totalDis[eachDisIndex])+1))"
   ]
  },
  {
   "cell_type": "code",
   "execution_count": 9,
   "metadata": {
    "collapsed": false
   },
   "outputs": [],
   "source": [
    "# better method to count and the original one is wrong!! log(1/7) + log(2/5) ... log(1+2/5+7)\n",
    "# import\n",
    "import math\n",
    "# create space\n",
    "trainResult = dict()\n",
    "lengthDisplayCount = dict()\n",
    "clickAdCount = dict()\n",
    "# count without laplace smoothing\n",
    "for eachDisIndex in totalDis:\n",
    "    for eachAd in totalDis[eachDisIndex]:\n",
    "        if eachAd[0] not in lengthDisplayCount:\n",
    "            lengthDisplayCount[eachAd[0]] = len(totalDis[eachDisIndex])\n",
    "            clickAdCount[eachAd[0]] = eachAd[1]\n",
    "        else:\n",
    "            lengthDisplayCount[eachAd[0]] += len(totalDis[eachDisIndex])\n",
    "            clickAdCount[eachAd[0]] += eachAd[1]\n",
    "# normalize \n",
    "for eachIndex in lengthDisplayCount:\n",
    "    if clickAdCount[eachIndex] == 0:\n",
    "        trainResult[eachIndex] = -float('inf')\n",
    "    else:\n",
    "        trainResult[eachIndex] = math.log(float(clickAdCount[eachIndex])/float(lengthDisplayCount[eachIndex]))\n"
   ]
  },
  {
   "cell_type": "code",
   "execution_count": 10,
   "metadata": {
    "collapsed": false
   },
   "outputs": [],
   "source": [
    "# print lengthDisplayCount\n",
    "# print clickAdCount\n",
    "# print trainResult"
   ]
  },
  {
   "cell_type": "code",
   "execution_count": 13,
   "metadata": {
    "collapsed": true
   },
   "outputs": [],
   "source": [
    "# use naive base to make prediction on train\n",
    "import random\n",
    "from copy import deepcopy\n",
    "\n",
    "\n",
    "# add click column into test\n",
    "testResult = deepcopy(train)\n",
    "testLen = len(testResult)\n",
    "for i in range(0,testLen):\n",
    "    testResult.set_value(i, 'clicked', 0)\n",
    "    \n",
    "# del testResult['clicked']\n",
    "# testLen = len(testResult)\n",
    "# clicks = [0]*testLen\n",
    "# seriesDesired = pd.Series(clicks)\n",
    "# testResult['clicked'] = seriesDesired\n",
    "\n",
    "# make preduction for test\n",
    "# get first display ID\n",
    "displayID = testResult.loc[0][\"display_id\"]\n",
    "# set maxProb to be -inf\n",
    "maxPro = -float('inf')\n",
    "maxset = []\n",
    "\n",
    "# # loop to find the prection for testResult\n",
    "for i in range(testLen):\n",
    "    if displayID == testResult.loc[i][\"display_id\"]:\n",
    "        # the same displayID\n",
    "        adID = testResult.loc[i]['ad_id']\n",
    "        if adID in trainResult:\n",
    "            # if such value get trained\n",
    "            pro = trainResult[adID]\n",
    "        else:\n",
    "            # if such value does not get trained\n",
    "            pro = -float('inf')\n",
    "        # find the maximum ad to click\n",
    "        if pro > maxPro:\n",
    "            maxPro = pro\n",
    "            maxset = []\n",
    "            maxset.append((i, adID))\n",
    "        elif pro == maxPro:\n",
    "            maxset.append((i, adID))\n",
    "    else:\n",
    "        # different displayID\n",
    "        # find the max for last\n",
    "        if len(maxset) == 1:\n",
    "            maxvalue = maxset[0]\n",
    "            index = maxvalue[0]\n",
    "        else:\n",
    "            maxvalue = random.sample(maxset, 1)\n",
    "            index = maxvalue[0][0]\n",
    "        testResult.set_value(index, 'clicked', 1)\n",
    "                \n",
    "        # start next\n",
    "        adID = testResult.loc[i]['ad_id']\n",
    "        if adID in trainResult:\n",
    "            # if such value get trained\n",
    "            pro = trainResult[adID]\n",
    "        else:\n",
    "            # if such value does not get trained\n",
    "            pro = -float('inf')\n",
    "        maxPro = pro\n",
    "        maxset = []\n",
    "        maxset.append((i, adID))\n",
    "        displayID = testResult.loc[i][\"display_id\"]\n",
    "    if i == testLen-1:\n",
    "        if len(maxset) == 1:\n",
    "            maxvalue = maxset[0]\n",
    "            index = maxvalue[0]\n",
    "        else:\n",
    "            maxvalue = random.sample(maxset, 1)\n",
    "            index = maxvalue[0][0]\n",
    "        testResult.set_value(index, 'clicked', 1)   \n",
    "\n"
   ]
  },
  {
   "cell_type": "code",
   "execution_count": 53,
   "metadata": {
    "collapsed": false
   },
   "outputs": [],
   "source": [
    "# use naive base to make prediction on test\n",
    "import random\n",
    "from copy import deepcopy\n",
    "\n",
    "\n",
    "# add click column into test\n",
    "testResult = deepcopy(test)\n",
    "testLen = len(testResult)\n",
    "for i in range(0,testLen):\n",
    "    testResult.set_value(i+1000002, 'clicked', 0)\n",
    "    \n",
    "# del testResult['clicked']\n",
    "# testLen = len(testResult)\n",
    "# clicks = [0]*testLen\n",
    "# seriesDesired = pd.Series(clicks)\n",
    "# testResult['clicked'] = seriesDesired\n",
    "\n",
    "# make preduction for test\n",
    "# get first display ID\n",
    "displayID = testResult.loc[1000002+0][\"display_id\"]\n",
    "# set maxProb to be -inf\n",
    "maxPro = -float('inf')\n",
    "maxset = []\n",
    "\n",
    "# # loop to find the prection for testResult\n",
    "for i in range(testLen):\n",
    "    if displayID == testResult.loc[1000002+i][\"display_id\"]:\n",
    "        # the same displayID\n",
    "        adID = testResult.loc[1000002+i]['ad_id']\n",
    "        if adID in trainResult:\n",
    "            # if such value get trained\n",
    "            pro = trainResult[adID]\n",
    "        else:\n",
    "            # if such value does not get trained\n",
    "            pro = -float('inf')\n",
    "        # find the maximum ad to click\n",
    "        if pro > maxPro:\n",
    "            maxPro = pro\n",
    "            maxset = []\n",
    "            maxset.append((1000002+i, adID))\n",
    "        elif pro == maxPro:\n",
    "            maxset.append((1000002+i, adID))\n",
    "    else:\n",
    "        # different displayID\n",
    "        # find the max for last\n",
    "        if len(maxset) == 1:\n",
    "            maxvalue = maxset[0]\n",
    "            index = maxvalue[0]\n",
    "        else:\n",
    "            maxvalue = random.sample(maxset, 1)\n",
    "            index = maxvalue[0][0]\n",
    "        testResult.set_value(index, 'clicked', 1)\n",
    "                \n",
    "        # start next\n",
    "        adID = testResult.loc[1000002+i]['ad_id']\n",
    "        if adID in trainResult:\n",
    "            # if such value get trained\n",
    "            pro = trainResult[adID]\n",
    "        else:\n",
    "            # if such value does not get trained\n",
    "            pro = -float('inf')\n",
    "        maxPro = pro\n",
    "        maxset = []\n",
    "        maxset.append((i+1000002, adID))\n",
    "        displayID = testResult.loc[1000002+i][\"display_id\"]\n",
    "    if i == testLen-1:\n",
    "        if len(maxset) == 1:\n",
    "            maxvalue = maxset[0]\n",
    "            index = maxvalue[0]\n",
    "        else:\n",
    "            maxvalue = random.sample(maxset, 1)\n",
    "            index = maxvalue[0][0]\n",
    "        testResult.set_value(index, 'clicked', 1)   \n",
    "\n"
   ]
  },
  {
   "cell_type": "code",
   "execution_count": 57,
   "metadata": {
    "collapsed": true
   },
   "outputs": [],
   "source": [
    "# random guess\n",
    "import random\n",
    "from copy import deepcopy\n",
    "\n",
    "# add click column into test\n",
    "testResult = deepcopy(test)\n",
    "testLen = len(testResult)\n",
    "for i in range(0,testLen):\n",
    "    testResult.set_value(i+1000002, 'clicked', 0)\n",
    "    \n",
    "# get first display ID\n",
    "displayID = testResult.loc[1000002+0][\"display_id\"]\n",
    "# set maxProb to be -inf\n",
    "maxPro = -float('inf')\n",
    "maxset = []\n",
    "\n",
    "# # loop to find the prection for testResult\n",
    "for i in range(testLen):\n",
    "    if displayID == testResult.loc[1000002+i][\"display_id\"]:\n",
    "        maxset.append((1000002+i, adID))\n",
    "    else:\n",
    "        # different displayID\n",
    "        maxvalue = random.sample(maxset, 1)\n",
    "        index = maxvalue[0][0]\n",
    "        testResult.set_value(index, 'clicked', 1)   \n",
    "        # start next\n",
    "        maxPro = pro\n",
    "        maxset = []\n",
    "        maxset.append((i+1000002, adID))\n",
    "        displayID = testResult.loc[1000002+i][\"display_id\"]\n",
    "    if i == testLen-1:\n",
    "        maxvalue = random.sample(maxset, 1)\n",
    "        index = maxvalue[0][0]\n",
    "        testResult.set_value(index, 'clicked', 1)   \n",
    "\n"
   ]
  },
  {
   "cell_type": "code",
   "execution_count": 17,
   "metadata": {
    "collapsed": false
   },
   "outputs": [
    {
     "name": "stdout",
     "output_type": "stream",
     "text": [
      "1\n"
     ]
    }
   ],
   "source": [
    "print testResult.loc[0][\"display_id\"]"
   ]
  },
  {
   "cell_type": "code",
   "execution_count": 11,
   "metadata": {
    "collapsed": false
   },
   "outputs": [],
   "source": [
    "# print test"
   ]
  },
  {
   "cell_type": "code",
   "execution_count": 18,
   "metadata": {
    "collapsed": false
   },
   "outputs": [
    {
     "ename": "KeyError",
     "evalue": "'the label [0] is not in the [index]'",
     "output_type": "error",
     "traceback": [
      "\u001b[0;31m---------------------------------------------------------------------------\u001b[0m",
      "\u001b[0;31mKeyError\u001b[0m                                  Traceback (most recent call last)",
      "\u001b[0;32m<ipython-input-18-ccfcb4251994>\u001b[0m in \u001b[0;36m<module>\u001b[0;34m()\u001b[0m\n\u001b[1;32m      4\u001b[0m \u001b[0mcount\u001b[0m \u001b[1;33m=\u001b[0m \u001b[1;36m0\u001b[0m\u001b[1;33m\u001b[0m\u001b[0m\n\u001b[1;32m      5\u001b[0m \u001b[1;32mfor\u001b[0m \u001b[0mi\u001b[0m \u001b[1;32min\u001b[0m \u001b[0mrange\u001b[0m\u001b[1;33m(\u001b[0m\u001b[0mtestLen\u001b[0m\u001b[1;33m)\u001b[0m\u001b[1;33m:\u001b[0m\u001b[1;33m\u001b[0m\u001b[0m\n\u001b[0;32m----> 6\u001b[0;31m     \u001b[1;32mif\u001b[0m \u001b[0mtestResult\u001b[0m\u001b[1;33m.\u001b[0m\u001b[0mloc\u001b[0m\u001b[1;33m[\u001b[0m\u001b[0mi\u001b[0m\u001b[1;33m]\u001b[0m\u001b[1;33m[\u001b[0m\u001b[1;34m\"clicked\"\u001b[0m\u001b[1;33m]\u001b[0m \u001b[1;33m==\u001b[0m \u001b[0mtest\u001b[0m\u001b[1;33m.\u001b[0m\u001b[0mloc\u001b[0m\u001b[1;33m[\u001b[0m\u001b[0mi\u001b[0m\u001b[1;33m]\u001b[0m\u001b[1;33m[\u001b[0m\u001b[1;34m\"clicked\"\u001b[0m\u001b[1;33m]\u001b[0m \u001b[1;32mand\u001b[0m \u001b[0mtest\u001b[0m\u001b[1;33m.\u001b[0m\u001b[0mloc\u001b[0m\u001b[1;33m[\u001b[0m\u001b[0mi\u001b[0m\u001b[1;33m]\u001b[0m\u001b[1;33m[\u001b[0m\u001b[1;34m\"clicked\"\u001b[0m\u001b[1;33m]\u001b[0m \u001b[1;33m==\u001b[0m \u001b[1;36m1\u001b[0m\u001b[1;33m:\u001b[0m\u001b[1;33m\u001b[0m\u001b[0m\n\u001b[0m\u001b[1;32m      7\u001b[0m         \u001b[0mcount\u001b[0m \u001b[1;33m+=\u001b[0m \u001b[1;36m1\u001b[0m\u001b[1;33m\u001b[0m\u001b[0m\n\u001b[1;32m      8\u001b[0m     \u001b[1;32mif\u001b[0m \u001b[0mdisplayID\u001b[0m \u001b[1;33m!=\u001b[0m \u001b[0mtestResult\u001b[0m\u001b[1;33m.\u001b[0m\u001b[0mloc\u001b[0m\u001b[1;33m[\u001b[0m\u001b[0mi\u001b[0m\u001b[1;33m]\u001b[0m\u001b[1;33m[\u001b[0m\u001b[1;34m\"display_id\"\u001b[0m\u001b[1;33m]\u001b[0m\u001b[1;33m:\u001b[0m\u001b[1;33m\u001b[0m\u001b[0m\n",
      "\u001b[0;32mC:\\Users\\kongl\\Anaconda2\\lib\\site-packages\\pandas\\core\\indexing.pyc\u001b[0m in \u001b[0;36m__getitem__\u001b[0;34m(self, key)\u001b[0m\n\u001b[1;32m   1294\u001b[0m             \u001b[1;32mreturn\u001b[0m \u001b[0mself\u001b[0m\u001b[1;33m.\u001b[0m\u001b[0m_getitem_tuple\u001b[0m\u001b[1;33m(\u001b[0m\u001b[0mkey\u001b[0m\u001b[1;33m)\u001b[0m\u001b[1;33m\u001b[0m\u001b[0m\n\u001b[1;32m   1295\u001b[0m         \u001b[1;32melse\u001b[0m\u001b[1;33m:\u001b[0m\u001b[1;33m\u001b[0m\u001b[0m\n\u001b[0;32m-> 1296\u001b[0;31m             \u001b[1;32mreturn\u001b[0m \u001b[0mself\u001b[0m\u001b[1;33m.\u001b[0m\u001b[0m_getitem_axis\u001b[0m\u001b[1;33m(\u001b[0m\u001b[0mkey\u001b[0m\u001b[1;33m,\u001b[0m \u001b[0maxis\u001b[0m\u001b[1;33m=\u001b[0m\u001b[1;36m0\u001b[0m\u001b[1;33m)\u001b[0m\u001b[1;33m\u001b[0m\u001b[0m\n\u001b[0m\u001b[1;32m   1297\u001b[0m \u001b[1;33m\u001b[0m\u001b[0m\n\u001b[1;32m   1298\u001b[0m     \u001b[1;32mdef\u001b[0m \u001b[0m_getitem_axis\u001b[0m\u001b[1;33m(\u001b[0m\u001b[0mself\u001b[0m\u001b[1;33m,\u001b[0m \u001b[0mkey\u001b[0m\u001b[1;33m,\u001b[0m \u001b[0maxis\u001b[0m\u001b[1;33m=\u001b[0m\u001b[1;36m0\u001b[0m\u001b[1;33m)\u001b[0m\u001b[1;33m:\u001b[0m\u001b[1;33m\u001b[0m\u001b[0m\n",
      "\u001b[0;32mC:\\Users\\kongl\\Anaconda2\\lib\\site-packages\\pandas\\core\\indexing.pyc\u001b[0m in \u001b[0;36m_getitem_axis\u001b[0;34m(self, key, axis)\u001b[0m\n\u001b[1;32m   1464\u001b[0m \u001b[1;33m\u001b[0m\u001b[0m\n\u001b[1;32m   1465\u001b[0m         \u001b[1;31m# fall thru to straight lookup\u001b[0m\u001b[1;33m\u001b[0m\u001b[1;33m\u001b[0m\u001b[0m\n\u001b[0;32m-> 1466\u001b[0;31m         \u001b[0mself\u001b[0m\u001b[1;33m.\u001b[0m\u001b[0m_has_valid_type\u001b[0m\u001b[1;33m(\u001b[0m\u001b[0mkey\u001b[0m\u001b[1;33m,\u001b[0m \u001b[0maxis\u001b[0m\u001b[1;33m)\u001b[0m\u001b[1;33m\u001b[0m\u001b[0m\n\u001b[0m\u001b[1;32m   1467\u001b[0m         \u001b[1;32mreturn\u001b[0m \u001b[0mself\u001b[0m\u001b[1;33m.\u001b[0m\u001b[0m_get_label\u001b[0m\u001b[1;33m(\u001b[0m\u001b[0mkey\u001b[0m\u001b[1;33m,\u001b[0m \u001b[0maxis\u001b[0m\u001b[1;33m=\u001b[0m\u001b[0maxis\u001b[0m\u001b[1;33m)\u001b[0m\u001b[1;33m\u001b[0m\u001b[0m\n\u001b[1;32m   1468\u001b[0m \u001b[1;33m\u001b[0m\u001b[0m\n",
      "\u001b[0;32mC:\\Users\\kongl\\Anaconda2\\lib\\site-packages\\pandas\\core\\indexing.pyc\u001b[0m in \u001b[0;36m_has_valid_type\u001b[0;34m(self, key, axis)\u001b[0m\n\u001b[1;32m   1401\u001b[0m                 \u001b[1;32mraise\u001b[0m\u001b[1;33m\u001b[0m\u001b[0m\n\u001b[1;32m   1402\u001b[0m             \u001b[1;32mexcept\u001b[0m\u001b[1;33m:\u001b[0m\u001b[1;33m\u001b[0m\u001b[0m\n\u001b[0;32m-> 1403\u001b[0;31m                 \u001b[0merror\u001b[0m\u001b[1;33m(\u001b[0m\u001b[1;33m)\u001b[0m\u001b[1;33m\u001b[0m\u001b[0m\n\u001b[0m\u001b[1;32m   1404\u001b[0m \u001b[1;33m\u001b[0m\u001b[0m\n\u001b[1;32m   1405\u001b[0m         \u001b[1;32mreturn\u001b[0m \u001b[0mTrue\u001b[0m\u001b[1;33m\u001b[0m\u001b[0m\n",
      "\u001b[0;32mC:\\Users\\kongl\\Anaconda2\\lib\\site-packages\\pandas\\core\\indexing.pyc\u001b[0m in \u001b[0;36merror\u001b[0;34m()\u001b[0m\n\u001b[1;32m   1388\u001b[0m                                     \"key\")\n\u001b[1;32m   1389\u001b[0m                 raise KeyError(\"the label [%s] is not in the [%s]\" %\n\u001b[0;32m-> 1390\u001b[0;31m                                (key, self.obj._get_axis_name(axis)))\n\u001b[0m\u001b[1;32m   1391\u001b[0m \u001b[1;33m\u001b[0m\u001b[0m\n\u001b[1;32m   1392\u001b[0m             \u001b[1;32mtry\u001b[0m\u001b[1;33m:\u001b[0m\u001b[1;33m\u001b[0m\u001b[0m\n",
      "\u001b[0;31mKeyError\u001b[0m: 'the label [0] is not in the [index]'"
     ]
    }
   ],
   "source": [
    "# prediction on train\n",
    "displayID = testResult.loc[0][\"display_id\"]\n",
    "totalCount = 0\n",
    "count = 0\n",
    "for i in range(testLen):\n",
    "    if testResult.loc[i][\"clicked\"] == train.loc[i][\"clicked\"] and train.loc[i][\"clicked\"] == 1:\n",
    "        count += 1\n",
    "    if displayID != testResult.loc[i][\"display_id\"]:\n",
    "        totalCount += 1\n",
    "        displayID = testResult.loc[i][\"display_id\"]\n",
    "print float(count)/float(totalCount)\n",
    "    "
   ]
  },
  {
   "cell_type": "code",
   "execution_count": 58,
   "metadata": {
    "collapsed": false
   },
   "outputs": [
    {
     "name": "stdout",
     "output_type": "stream",
     "text": [
      "0.215291750503\n"
     ]
    }
   ],
   "source": [
    "# prediction on test\n",
    "displayID = testResult.loc[1000002+0][\"display_id\"]\n",
    "totalCount = 0\n",
    "count = 0\n",
    "for i in range(testLen):\n",
    "    if testResult.loc[1000002+i][\"clicked\"] == test.loc[1000002+i][\"clicked\"] and test.loc[1000002+i][\"clicked\"] == 1:\n",
    "        count += 1\n",
    "    if displayID != testResult.loc[1000002+i][\"display_id\"]:\n",
    "        totalCount += 1\n",
    "        displayID = testResult.loc[1000002+i][\"display_id\"]\n",
    "print float(count)/float(totalCount)\n",
    "    "
   ]
  },
  {
   "cell_type": "code",
   "execution_count": 1,
   "metadata": {
    "collapsed": true
   },
   "outputs": [],
   "source": [
    "import numpy as np\n",
    "import matplotlib.pyplot as plt"
   ]
  },
  {
   "cell_type": "code",
   "execution_count": 4,
   "metadata": {
    "collapsed": false
   },
   "outputs": [
    {
     "data": {
      "image/png": "[encoded data removed]",
      "text/plain": [
       "<matplotlib.figure.Figure at 0x7c5a668>"
      ]
     },
     "metadata": {},
     "output_type": "display_data"
    }
   ],
   "source": [
    "# make plot for poster\n",
    "x = [0, 5002, 10002, 50005, 100008, 500011, 1000001, 2000002]\n",
    "y = [0, 0.2484909, 0.2449698, 0.2650905, 0.3073440, 0.3616700, 0.4361667, 0.4743460]\n",
    "yGuess = [0.15, 0.15, 0.14, 0.16, 0.17, 0.17, 0.17, 0.17]\n",
    "xArray = np.array(x, np.int32)\n",
    "yArray = np.array(y, np.float)\n",
    "yGuessArray = np.array(yGuess, np.float)\n",
    "plt.plot(xArray, yArray, label='Naive Base')\n",
    "plt.plot(xArray, yGuessArray, label='Random Guess')\n",
    "plt.legend(loc='lower right')\n",
    "plt.xlabel('Number of Samples')\n",
    "plt.ylabel('Percentage of Accuracy')\n",
    "plt.title('Testing Accuracy vs. Number of Samples')\n",
    "plt.show()"
   ]
  }
 ],
 "metadata": {
  "anaconda-cloud": {},
  "kernelspec": {
   "display_name": "Python [default]",
   "language": "python",
   "name": "python2"
  },
  "language_info": {
   "codemirror_mode": {
    "name": "ipython",
    "version": 2
   },
   "file_extension": ".py",
   "mimetype": "text/x-python",
   "name": "python",
   "nbconvert_exporter": "python",
   "pygments_lexer": "ipython2",
   "version": "2.7.12"
  }
 },
 "nbformat": 4,
 "nbformat_minor": 1
}
