{
 "cells": [
  {
   "cell_type": "code",
   "execution_count": 1,
   "metadata": {
    "collapsed": true
   },
   "outputs": [],
   "source": [
    "# load training result get from preprocess.py module\n",
    "import json\n",
    "with open('ad2Adv.json', 'r') as fp:\n",
    "    ad2AdvStr = json.load(fp)\n",
    "\n",
    "with open('ad2Cam.json', 'r') as fp:\n",
    "    ad2CamStr = json.load(fp)\n",
    "\n",
    "with open('finalDis2Doc.json', 'r') as fp:\n",
    "    finalDis2DocStr = json.load(fp)\n",
    "    \n",
    "with open('finalDoc2Cate.json', 'r') as fp:\n",
    "    finalDoc2CateStr = json.load(fp) \n",
    "\n",
    "with open('finalDoc2Topic.json', 'r') as fp:\n",
    "    finalDoc2TopicStr = json.load(fp)  \n",
    "    \n",
    "with open('finalDoc2Meta.json', 'r') as fp:\n",
    "    finalDoc2MetaStr = json.load(fp)  \n",
    "    \n",
    "with open('finalData.json', 'r') as fp:\n",
    "    finalDataStr = json.load(fp) "
   ]
  },
  {
   "cell_type": "code",
   "execution_count": 2,
   "metadata": {
    "collapsed": true
   },
   "outputs": [],
   "source": [
    "# convert str dict to value dict\n",
    "ad2Adv = dict()\n",
    "for each in ad2AdvStr:\n",
    "    ad2Adv[float(each)] = float(ad2AdvStr[each])\n",
    "\n",
    "ad2Cam = dict()\n",
    "for each in ad2CamStr:\n",
    "    ad2Cam[float(each)] = float(ad2CamStr[each])\n",
    "    \n",
    "finalDis2Doc = dict()\n",
    "for each in finalDis2DocStr:\n",
    "    finalDis2Doc[float(each)] = float(finalDis2DocStr[each])\n",
    "    \n",
    "finalDoc2Cate = dict()\n",
    "for each in finalDoc2CateStr:\n",
    "    finalDoc2Cate[float(each)] = float(finalDoc2CateStr[each])\n",
    "    \n",
    "finalDoc2Topic = dict()\n",
    "for each in finalDoc2TopicStr:\n",
    "    finalDoc2Topic[float(each)] = float(finalDoc2TopicStr[each])\n",
    "    \n",
    "finalDoc2Meta = dict()\n",
    "for each in finalDoc2MetaStr:\n",
    "    finalDoc2Meta[float(each)] = float(finalDoc2MetaStr[each])\n",
    "    \n",
    "finalData = dict()\n",
    "for each in finalDataStr:\n",
    "    finalData[float(each)] = eval(finalDataStr[each])"
   ]
  },
  {
   "cell_type": "code",
   "execution_count": 3,
   "metadata": {
    "collapsed": false
   },
   "outputs": [],
   "source": [
    "# split train and test\n",
    "trainData = dict()\n",
    "testData = dict()\n",
    "count = 0\n",
    "threshold = 2782\n",
    "for i in finalData:\n",
    "    if count < 2782:\n",
    "        trainData[i] = finalData[i]\n",
    "    else:\n",
    "        testData[i] = finalData[i]\n",
    "    count += 1"
   ]
  },
  {
   "cell_type": "code",
   "execution_count": 4,
   "metadata": {
    "collapsed": false
   },
   "outputs": [],
   "source": [
    "# get click count\n",
    "# create ad2ClickTrain Dict()\n",
    "ad2ClickTrain = dict()\n",
    "for dis in trainData:\n",
    "#     print dis\n",
    "    for adTuple in trainData[dis]:\n",
    "#         print adTuple\n",
    "        adID = adTuple[0]\n",
    "        adClick = adTuple[1]\n",
    "        if adID not in ad2ClickTrain:\n",
    "            ad2ClickTrain[adID] = adClick + 1\n",
    "        else:\n",
    "            ad2ClickTrain[adID] += adClick"
   ]
  },
  {
   "cell_type": "code",
   "execution_count": 5,
   "metadata": {
    "collapsed": false
   },
   "outputs": [],
   "source": [
    "# create adv2ClickTrain Dict()        \n",
    "adv2Click = dict()\n",
    "cam2Click = dict()\n",
    "ad2Click = ad2ClickTrain\n",
    "for each in ad2ClickTrain:\n",
    "    adID = each\n",
    "    adv = ad2Adv[adID]\n",
    "    cam = ad2Cam[adID]\n",
    "    if adv not in adv2Click:\n",
    "        adv2Click[adv] = ad2ClickTrain[adID]\n",
    "    else:\n",
    "        adv2Click[adv] += ad2ClickTrain[adID]\n",
    "        \n",
    "    if cam not in cam2Click:\n",
    "        cam2Click[cam] = ad2ClickTrain[adID]\n",
    "    else:\n",
    "        cam2Click[cam] += ad2ClickTrain[adID]\n"
   ]
  },
  {
   "cell_type": "code",
   "execution_count": 7,
   "metadata": {
    "collapsed": false
   },
   "outputs": [],
   "source": [
    "advSet = set()\n",
    "camSet = set()\n",
    "adSet = set()\n",
    "delDis = []\n",
    "for dis in trainData:\n",
    "    for adTuple in trainData[dis]:\n",
    "        adID = adTuple[0]\n",
    "        y = adTuple[1]\n",
    "        adv = ad2Adv[adID]\n",
    "        cam = ad2Cam[adID]\n",
    "        advSet.add(adv)\n",
    "        camSet.add(cam)\n",
    "        adSet.add(adID)\n",
    "testAdNum = []\n",
    "testAdNum.append(0)\n",
    "sumLen = 0\n",
    "yFlag = 0\n",
    "for dis in testData:\n",
    "    newTestSet = []\n",
    "    yFlag = 0\n",
    "    for adTuple in testData[dis]:\n",
    "        adID = adTuple[0]\n",
    "        y = adTuple[1]\n",
    "        if adID in adSet:\n",
    "            newTestSet.append(adTuple)\n",
    "            if y == 1:\n",
    "                yFlag = 1\n",
    "    if yFlag == 1 and len(newTestSet) != 0:\n",
    "        testData[dis] = newTestSet\n",
    "        sumLen += len(newTestSet)     \n",
    "        testAdNum.append(sumLen)\n",
    "#         print dis, testData[dis]\n",
    "    else:\n",
    "        delDis.append(dis)\n",
    "# delete others that not satisfy\n",
    "for dis in delDis:\n",
    "    del testData[dis]\n",
    "\n",
    "#         advSet.add(adv)\n",
    "#         camSet.add(cam)\n",
    "# adSet.add(adID)"
   ]
  },
  {
   "cell_type": "code",
   "execution_count": 8,
   "metadata": {
    "collapsed": false
   },
   "outputs": [],
   "source": [
    "# create index to adv and cam mapping\n",
    "adv2Index = dict()\n",
    "cam2Index = dict()\n",
    "ad2Index = dict()\n",
    "advCount = 0\n",
    "for adv in (advSet):\n",
    "    adv2Index[adv] = advCount\n",
    "    advCount += 1\n",
    "camCount = advCount\n",
    "for cam in (camSet):\n",
    "    cam2Index[cam] = camCount\n",
    "    camCount += 1\n",
    "adCount = camCount\n",
    "for ad in (adSet):\n",
    "    ad2Index[ad] = adCount\n",
    "    adCount += 1"
   ]
  },
  {
   "cell_type": "code",
   "execution_count": 9,
   "metadata": {
    "collapsed": false
   },
   "outputs": [
    {
     "name": "stdout",
     "output_type": "stream",
     "text": [
      "12301\n",
      "12301\n"
     ]
    }
   ],
   "source": [
    "print adCount\n",
    "print len(advSet)+len(camSet)+len(adSet)"
   ]
  },
  {
   "cell_type": "code",
   "execution_count": 30,
   "metadata": {
    "collapsed": false
   },
   "outputs": [],
   "source": [
    "# prepaare zero matrix\n",
    "xTrainSet = []\n",
    "yTrainSet = []\n",
    "xTestSet = []\n",
    "yTestSet = []\n",
    "eachSet = []\n",
    "adTrainCount = 0\n",
    "adTestCount = 0\n",
    "for i in range(len(advSet)): #+len(camSet)+len(adSet)):\n",
    "    eachSet.append(0)\n",
    "# for i in range()\n",
    "for dis in trainData:\n",
    "    for adTuple in trainData[dis]:\n",
    "        adTrainCount += 1\n",
    "for dis in testData:\n",
    "    for adTuple in testData[dis]:\n",
    "        adTestCount += 1\n",
    "for i in range(adTrainCount):\n",
    "    xTrainSet.append(eachSet)\n",
    "    yTrainSet.append(0)\n",
    "for i in range(adTestCount):\n",
    "    xTestSet.append(eachSet)\n",
    "    yTestSet.append(0)\n",
    "    \n",
    "import numpy as np\n",
    "# train\n",
    "# convert set x and y to matrix x and y\n",
    "xTrain = np.array(xTrainSet, np.int32)\n",
    "yTrain = np.array(yTrainSet, np.int32)\n",
    "\n",
    "# test\n",
    "# convert set x and y to matrix x and y\n",
    "xTest = np.array(xTestSet, np.int32)\n",
    "yTest = np.array(yTestSet, np.int32)"
   ]
  },
  {
   "cell_type": "code",
   "execution_count": 31,
   "metadata": {
    "collapsed": false
   },
   "outputs": [
    {
     "name": "stdout",
     "output_type": "stream",
     "text": [
      "[ 0.09503059  0.07301308  0.0649903   0.0567894   0.04483146  0.03501905\n",
      "  0.03424723  0.03251566  0.03196336  0.02547312  0.02204855  0.02034121\n",
      "  0.0185267   0.01561496  0.01385583  0.01244826  0.01234667  0.01110076\n",
      "  0.01094069  0.01042643  0.00903306  0.00821598  0.00756423  0.00743287\n",
      "  0.00730162  0.00707325  0.00666617  0.00640626  0.00578566  0.00568606\n",
      "  0.00532273  0.00520829  0.00507645  0.00497533  0.00495262  0.00491146\n",
      "  0.00486127  0.00466747  0.00437223  0.00432364  0.00415549  0.00384939\n",
      "  0.00379294  0.00377126  0.00370778  0.00348535  0.00345375  0.00313569\n",
      "  0.00311742  0.00307246  0.00304227  0.00300999  0.00286434  0.00281454\n",
      "  0.00272351  0.00270451  0.00262725  0.00261256  0.00258377  0.00257247\n",
      "  0.0025175   0.00249442  0.00245805  0.00242153  0.002359    0.00234275\n",
      "  0.0022677   0.00225964  0.00223701  0.00219236  0.00216642  0.0021406\n",
      "  0.00212426  0.002114    0.00209893  0.00206968  0.00202477  0.00200791\n",
      "  0.00193292  0.00180683  0.00180436  0.00180104  0.00179941  0.00179521\n",
      "  0.00178253  0.00176375  0.00173551  0.00171927  0.00164169  0.00161741\n",
      "  0.00158886  0.00158297  0.00157236  0.00154884  0.00152272  0.00147712\n",
      "  0.0014626   0.00143033  0.00137729  0.00136521  0.00133361  0.00129721\n",
      "  0.00129408  0.00128934  0.00128378  0.001275    0.00125853  0.00122857\n",
      "  0.00116152  0.00115486  0.00113233  0.00112691  0.0011237   0.00111165\n",
      "  0.00106886  0.00106116  0.00104187  0.00102092  0.00101923  0.00101006\n",
      "  0.00094602  0.00092657  0.00092656  0.00092042  0.00089803  0.00087802\n",
      "  0.00087363  0.00083536  0.00082767  0.00080304  0.00080129  0.00079562\n",
      "  0.00077981  0.0007701   0.00076287  0.0007483   0.00073427  0.00071347\n",
      "  0.00070915  0.00070027  0.00067684  0.0006754   0.00067534  0.00067008\n",
      "  0.00065138  0.00064799  0.00063562  0.0006334   0.0006253   0.00062117\n",
      "  0.00060508  0.00060084  0.000592    0.00058664  0.00058485  0.00057842\n",
      "  0.0005711   0.0005627   0.00056213  0.00055753  0.00054606  0.00054398\n",
      "  0.00053933  0.00053227  0.00052037  0.00051485  0.00047557  0.00047317\n",
      "  0.00047169  0.00046623  0.0004649   0.00045844  0.00044668  0.00044143\n",
      "  0.0004315   0.0004288   0.00042712  0.00042651  0.00042094  0.00041476\n",
      "  0.00041317  0.00041162  0.0004055   0.00040202  0.00039544  0.00038256\n",
      "  0.00037826  0.00036647  0.00034865  0.00034634  0.00034461  0.00033818\n",
      "  0.00033765  0.00032889  0.00032522  0.00031978  0.00031674  0.0003134\n",
      "  0.00030845  0.00030094]\n"
     ]
    }
   ],
   "source": [
    "# make indicator now\n",
    "count = 0\n",
    "for dis in trainData:\n",
    "    for adTuple in trainData[dis]:\n",
    "        adID = adTuple[0]\n",
    "        y = adTuple[1]\n",
    "        if y == 0:\n",
    "            y = -1\n",
    "        adv = ad2Adv[adID]\n",
    "        cam = ad2Cam[adID]\n",
    "        # assign y value\n",
    "        yTrain[count] = y\n",
    "        # assign x value\n",
    "        advIndex = adv2Index[adv]\n",
    "        camIndex = cam2Index[cam]\n",
    "        adIndex = ad2Index[adID]\n",
    "        xTrain[count][advIndex] = adv2Click[adv] #45% only\n",
    "#         xTrain[count][camIndex] = cam2Click[cam]*5 #42% only\n",
    "#         xTrain[count][adIndex] = ad2Click[adID] #40% only\n",
    "        count += 1\n",
    "        \n",
    "count = 0\n",
    "for dis in testData:\n",
    "    for adTuple in testData[dis]:\n",
    "        adID = adTuple[0]\n",
    "        y = adTuple[1]\n",
    "        if y == 0:\n",
    "            y = -1\n",
    "        adv = ad2Adv[adID]\n",
    "        cam = ad2Cam[adID]\n",
    "        # assign y value\n",
    "        yTest[count] = y\n",
    "        # assign x value\n",
    "        advIndex = adv2Index[adv]\n",
    "        camIndex = cam2Index[cam]\n",
    "        adIndex = ad2Index[adID]\n",
    "        xTest[count][advIndex] = adv2Click[adv]\n",
    "#         xTest[count][camIndex] = cam2Click[cam]\n",
    "#         xTest[count][adIndex] = ad2Click[ad]\n",
    "#         if adv in adv2Click:\n",
    "#             xTest[count][advIndex] = adv2Click[adv] + 1\n",
    "#         else:\n",
    "#             xTest[count][advIndex] = 1\n",
    "#         if cam in cam2Click:\n",
    "#             xTest[count][camIndex] = cam2Click[cam] + 1\n",
    "#         else:\n",
    "#             xTest[count][camIndex] = 1\n",
    "#         if adID in ad2Click:\n",
    "#             xTest[count][adIndex] = ad2Click[ad] + 1\n",
    "#         else:\n",
    "#             xTest[count][adIndex] = 1\n",
    "        \n",
    "        count += 1\n",
    "\n",
    "        \n",
    "# # PCA to lower dimension and try it \n",
    "# from sklearn.decomposition import PCA\n",
    "# pca = PCA(n_components=200)\n",
    "# xTrain = pca.fit_transform(xTrain)\n",
    "# print pca.explained_variance_ratio_\n",
    "# xTest = pca.fit_transform(xTest)\n",
    "\n",
    "\n",
    "# split test until each display ID\n",
    "xTestDict = dict()\n",
    "yTestDict = dict()\n",
    "xTestDict[0] = xTest[0:7,:]\n",
    "for i in range(len(testAdNum)-1):\n",
    "    xTestDict[i] = xTest[testAdNum[i]:testAdNum[i+1],:]\n",
    "    yTestDict[i] = yTest[testAdNum[i]:testAdNum[i+1]]"
   ]
  },
  {
   "cell_type": "code",
   "execution_count": 22,
   "metadata": {
    "collapsed": false
   },
   "outputs": [
    {
     "name": "stdout",
     "output_type": "stream",
     "text": [
      "Automatically created module for IPython interactive environment\n"
     ]
    }
   ],
   "source": [
    "print(__doc__)\n",
    "\n",
    "import random\n",
    "import numpy as np\n",
    "import matplotlib.pyplot as plt\n",
    "from sklearn import linear_model, datasets\n",
    "from sklearn import svm\n",
    "from sklearn.ensemble import RandomForestClassifier"
   ]
  },
  {
   "cell_type": "code",
   "execution_count": 32,
   "metadata": {
    "collapsed": false
   },
   "outputs": [
    {
     "name": "stdout",
     "output_type": "stream",
     "text": [
      "0.296875\n"
     ]
    }
   ],
   "source": [
    "# h = .2  # step size in the mesh\n",
    "# clf = linear_model.LogisticRegression(C=1e3)\n",
    "clf = linear_model.LogisticRegression(tol=0.0001, C=1e3, fit_intercept=True, solver='lbfgs', warm_start=False)\n",
    "\n",
    "# clf = svm.SVC(probability=True)\n",
    "# clf = RandomForestClassifier(n_estimators=10)\n",
    "clf.fit(xTrain, yTrain)\n",
    "totalCount = 0\n",
    "correctCount = 0\n",
    "\n",
    "for dis in xTestDict:\n",
    "    matrixSize = (xTestDict[dis]).shape\n",
    "    row = matrixSize[0]\n",
    "    maxProb = -float('inf')\n",
    "    prob  = 0\n",
    "    loc = 0\n",
    "    maxSet = []\n",
    "#     print 'oneDis'\n",
    "    for i in range(row):\n",
    "        eachX = xTestDict[dis][i,:]\n",
    "        #  X.reshape(1, -1) if it contains a single sample\n",
    "        eachX = eachX.reshape(1, -1)\n",
    "#         allProb = clf.score(eachX)\n",
    "        allProb = clf.predict_proba(eachX)\n",
    "        prob = allProb[0][1]\n",
    "        # make prediction\n",
    "        if prob > maxProb:\n",
    "            maxProb = prob\n",
    "            maxSet = []\n",
    "            maxSet.append(i)\n",
    "#             print 'break'\n",
    "        elif prob == maxProb:\n",
    "            maxSet.append(i)\n",
    "#             print 'tie'\n",
    "#     print maxSet\n",
    "    # if tie pick one random\n",
    "    if len(maxSet) == 1:\n",
    "        loc = maxSet[0]\n",
    "    else:\n",
    "        loc = random.sample(maxSet, 1)\n",
    "    # get the accuracy\n",
    "    if yTestDict[dis][loc] == 1:\n",
    "        correctCount += 1\n",
    "    totalCount += 1\n",
    "        \n",
    "print float(correctCount)/totalCount"
   ]
  },
  {
   "cell_type": "code",
   "execution_count": 12,
   "metadata": {
    "collapsed": false
   },
   "outputs": [
    {
     "name": "stdout",
     "output_type": "stream",
     "text": [
      "0.421875\n"
     ]
    }
   ],
   "source": [
    "# h = .2  # step size in the mesh\n",
    "# clf = linear_model.LogisticRegression(C=1e5)\n",
    "# clf = svm.SVC(probability=True)\n",
    "clf = RandomForestClassifier(n_estimators=10)\n",
    "clf.fit(xTrain, yTrain)\n",
    "totalCount = 0\n",
    "correctCount = 0\n",
    "\n",
    "for dis in xTestDict:\n",
    "    matrixSize = (xTestDict[dis]).shape\n",
    "    row = matrixSize[0]\n",
    "    maxProb = -float('inf')\n",
    "    prob  = 0\n",
    "    loc = 0\n",
    "    maxSet = []\n",
    "#     print 'oneDis'\n",
    "    for i in range(row):\n",
    "        eachX = xTestDict[dis][i,:]\n",
    "        #  X.reshape(1, -1) if it contains a single sample\n",
    "        eachX = eachX.reshape(1, -1)\n",
    "        allProb = clf.predict_proba(eachX)\n",
    "        prob = allProb[0][1]\n",
    "        # make prediction\n",
    "        if prob > maxProb:\n",
    "            maxProb = prob\n",
    "            maxSet = []\n",
    "            maxSet.append(i)\n",
    "#             print 'break'\n",
    "        elif prob == maxProb:\n",
    "            maxSet.append(i)\n",
    "#             print 'tie'\n",
    "#     print maxSet\n",
    "    # if tie pick one random\n",
    "    if len(maxSet) == 1:\n",
    "        loc = maxSet[0]\n",
    "    else:\n",
    "        loc = random.sample(maxSet, 1)\n",
    "    # get the accuracy\n",
    "    if yTestDict[dis][loc] == 1:\n",
    "        correctCount += 1\n",
    "    totalCount += 1\n",
    "        \n",
    "print float(correctCount)/totalCount"
   ]
  },
  {
   "cell_type": "code",
   "execution_count": null,
   "metadata": {
    "collapsed": true
   },
   "outputs": [],
   "source": [
    "# h = .2  # step size in the mesh\n",
    "# clf = linear_model.LogisticRegression(C=1e5)\n",
    "clf = svm.SVC(probability=True)\n",
    "# clf = RandomForestClassifier(n_estimators=10)\n",
    "clf.fit(xTrain, yTrain)\n",
    "totalCount = 0\n",
    "correctCount = 0\n",
    "\n",
    "for dis in xTestDict:\n",
    "    matrixSize = (xTestDict[dis]).shape\n",
    "    row = matrixSize[0]\n",
    "    maxProb = -float('inf')\n",
    "    prob  = 0\n",
    "    loc = 0\n",
    "    maxSet = []\n",
    "#     print 'oneDis'\n",
    "    for i in range(row):\n",
    "        eachX = xTestDict[dis][i,:]\n",
    "        #  X.reshape(1, -1) if it contains a single sample\n",
    "        eachX = eachX.reshape(1, -1)\n",
    "        allProb = clf.predict_proba(eachX)\n",
    "        prob = allProb[0][1]\n",
    "        # make prediction\n",
    "        if prob > maxProb:\n",
    "            maxProb = prob\n",
    "            maxSet = []\n",
    "            maxSet.append(i)\n",
    "#             print 'break'\n",
    "        elif prob == maxProb:\n",
    "            maxSet.append(i)\n",
    "#             print 'tie'\n",
    "#     print maxSet\n",
    "    # if tie pick one random\n",
    "    if len(maxSet) == 1:\n",
    "        loc = maxSet[0]\n",
    "    else:\n",
    "        loc = random.sample(maxSet, 1)\n",
    "    # get the accuracy\n",
    "    if yTestDict[dis][loc] == 1:\n",
    "        correctCount += 1\n",
    "    totalCount += 1\n",
    "        \n",
    "print float(correctCount)/totalCount"
   ]
  }
 ],
 "metadata": {
  "anaconda-cloud": {},
  "kernelspec": {
   "display_name": "Python [default]",
   "language": "python",
   "name": "python2"
  },
  "language_info": {
   "codemirror_mode": {
    "name": "ipython",
    "version": 2
   },
   "file_extension": ".py",
   "mimetype": "text/x-python",
   "name": "python",
   "nbconvert_exporter": "python",
   "pygments_lexer": "ipython2",
   "version": "2.7.12"
  }
 },
 "nbformat": 4,
 "nbformat_minor": 1
}
