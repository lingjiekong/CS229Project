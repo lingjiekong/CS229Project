{
 "cells": [
  {
   "cell_type": "code",
   "execution_count": 105,
   "metadata": {
    "collapsed": true
   },
   "outputs": [],
   "source": [
    "# load training result get from preprocess.py module\n",
    "\n",
    "import json\n",
    "with open('ad2Adv.json', 'r') as fp:\n",
    "    ad2AdvStr = json.load(fp)\n",
    "\n",
    "with open('ad2Cam.json', 'r') as fp:\n",
    "    ad2CamStr = json.load(fp)\n",
    "\n",
    "with open('finalDis2Doc.json', 'r') as fp:\n",
    "    finalDis2DocStr = json.load(fp)\n",
    "    \n",
    "with open('finalDoc2Cate.json', 'r') as fp:\n",
    "    finalDoc2CateStr = json.load(fp) \n",
    "\n",
    "with open('finalDoc2Topic.json', 'r') as fp:\n",
    "    finalDoc2TopicStr = json.load(fp)  \n",
    "    \n",
    "with open('finalDoc2Meta.json', 'r') as fp:\n",
    "    finalDoc2MetaStr = json.load(fp)  \n",
    "    \n",
    "with open('finalData.json', 'r') as fp:\n",
    "    finalDataStr = json.load(fp) "
   ]
  },
  {
   "cell_type": "code",
   "execution_count": 106,
   "metadata": {
    "collapsed": true
   },
   "outputs": [],
   "source": [
    "# convert str dict to value dict\n",
    "ad2Adv = dict()\n",
    "for each in ad2AdvStr:\n",
    "    ad2Adv[float(each)] = float(ad2AdvStr[each])\n",
    "\n",
    "ad2Cam = dict()\n",
    "for each in ad2CamStr:\n",
    "    ad2Cam[float(each)] = float(ad2CamStr[each])\n",
    "    \n",
    "finalDis2Doc = dict()\n",
    "for each in finalDis2DocStr:\n",
    "    finalDis2Doc[float(each)] = float(finalDis2DocStr[each])\n",
    "    \n",
    "finalDoc2Cate = dict()\n",
    "for each in finalDoc2CateStr:\n",
    "    finalDoc2Cate[float(each)] = float(finalDoc2CateStr[each])\n",
    "    \n",
    "finalDoc2Topic = dict()\n",
    "for each in finalDoc2TopicStr:\n",
    "    finalDoc2Topic[float(each)] = float(finalDoc2TopicStr[each])\n",
    "    \n",
    "finalDoc2Meta = dict()\n",
    "for each in finalDoc2MetaStr:\n",
    "    finalDoc2Meta[float(each)] = float(finalDoc2MetaStr[each])\n",
    "    \n",
    "finalData = dict()\n",
    "for each in finalDataStr:\n",
    "    finalData[float(each)] = eval(finalDataStr[each])"
   ]
  },
  {
   "cell_type": "code",
   "execution_count": 107,
   "metadata": {
    "collapsed": true
   },
   "outputs": [],
   "source": [
    "# split train and test\n",
    "trainData = dict()\n",
    "testData = dict()\n",
    "count = 0\n",
    "threshold = 2782\n",
    "for i in finalData:\n",
    "    if count < 2782:\n",
    "        trainData[i] = finalData[i]\n",
    "    else:\n",
    "        testData[i] = finalData[i]\n",
    "    count += 1"
   ]
  },
  {
   "cell_type": "code",
   "execution_count": 108,
   "metadata": {
    "collapsed": true
   },
   "outputs": [],
   "source": [
    "# get click count\n",
    "# create ad2ClickTrain Dict()\n",
    "ad2ClickTrain = dict()\n",
    "for dis in trainData:\n",
    "    for adTuple in trainData[dis]:\n",
    "        adID = adTuple[0]\n",
    "        adClick = adTuple[1]\n",
    "        if adID not in ad2ClickTrain:\n",
    "            ad2ClickTrain[adID] = adClick\n",
    "        else:\n",
    "            ad2ClickTrain[adID] += adClick"
   ]
  },
  {
   "cell_type": "code",
   "execution_count": 109,
   "metadata": {
    "collapsed": true
   },
   "outputs": [],
   "source": [
    "# create adv2ClickTrain Dict()\n",
    "adv2Click = dict()\n",
    "for each in ad2ClickTrain:\n",
    "    adID = each\n",
    "    adv = ad2Adv[adID]\n",
    "    cam = ad2Cam[adID]\n",
    "    if adv not in adv2Click:\n",
    "        adv2Click[adv] = ad2ClickTrain[adID] + 1\n",
    "    else:\n",
    "        adv2Click[adv] += ad2ClickTrain[adID] + 1"
   ]
  },
  {
   "cell_type": "code",
   "execution_count": 110,
   "metadata": {
    "collapsed": false
   },
   "outputs": [],
   "source": [
    "advSet = set()\n",
    "for dis in trainData:\n",
    "    for adTuple in trainData[dis]:\n",
    "        adID = adTuple[0]\n",
    "        y = adTuple[1]\n",
    "        adv = ad2Adv[adID]\n",
    "        advSet.add(adv)\n",
    "testAdNum = []\n",
    "testAdNum.append(0)\n",
    "sumLen = 0\n",
    "for dis in testData:\n",
    "    sumLen += len(testData[dis])\n",
    "    testAdNum.append(sumLen)\n",
    "    for adTuple in testData[dis]:\n",
    "        adID = adTuple[0]\n",
    "        y = adTuple[1]\n",
    "        adv = ad2Adv[adID]\n",
    "        advSet.add(adv)"
   ]
  },
  {
   "cell_type": "code",
   "execution_count": 111,
   "metadata": {
    "collapsed": true
   },
   "outputs": [],
   "source": [
    "# create index to adv and cam mapping\n",
    "adv2Index = dict()\n",
    "advCount = 0\n",
    "for adv in (advSet):\n",
    "    adv2Index[adv] = advCount\n",
    "    advCount += 1"
   ]
  },
  {
   "cell_type": "code",
   "execution_count": 112,
   "metadata": {
    "collapsed": false
   },
   "outputs": [
    {
     "name": "stdout",
     "output_type": "stream",
     "text": [
      "1676\n"
     ]
    }
   ],
   "source": [
    "print len(adv2Index)"
   ]
  },
  {
   "cell_type": "code",
   "execution_count": 113,
   "metadata": {
    "collapsed": false
   },
   "outputs": [],
   "source": [
    "# prepaare zero matrix\n",
    "xTrainSet = []\n",
    "yTrainSet = []\n",
    "xTestSet = []\n",
    "yTestSet = []\n",
    "eachSet = []\n",
    "adTrainCount = 0\n",
    "adTestCount = 0\n",
    "for i in range(len(advSet)):\n",
    "    eachSet.append(0)\n",
    "# for i in range()\n",
    "for dis in trainData:\n",
    "    for adTuple in trainData[dis]:\n",
    "        adTrainCount += 1\n",
    "for dis in testData:\n",
    "    for adTuple in testData[dis]:\n",
    "        adTestCount += 1\n",
    "for i in range(adTrainCount):\n",
    "    xTrainSet.append(eachSet)\n",
    "    yTrainSet.append(0)\n",
    "for i in range(adTestCount):\n",
    "    xTestSet.append(eachSet)\n",
    "    yTestSet.append(0)\n",
    "    \n",
    "import numpy as np\n",
    "# train\n",
    "# convert set x and y to matrix x and y\n",
    "xTrain = np.array(xTrainSet, np.int32)\n",
    "yTrain = np.array(yTrainSet, np.int32)\n",
    "\n",
    "# test\n",
    "# convert set x and y to matrix x and y\n",
    "xTest = np.array(xTestSet, np.int32)\n",
    "yTest = np.array(yTestSet, np.int32)"
   ]
  },
  {
   "cell_type": "code",
   "execution_count": 119,
   "metadata": {
    "collapsed": false
   },
   "outputs": [],
   "source": [
    "# make indicator now\n",
    "count = 0\n",
    "for dis in trainData:\n",
    "    for adTuple in trainData[dis]:\n",
    "        adID = adTuple[0]\n",
    "        y = adTuple[1]\n",
    "        if y == 0:\n",
    "            y = -1\n",
    "        adv = ad2Adv[adID]\n",
    "        # assign y value\n",
    "        yTrain[count] = y\n",
    "        # assign x value\n",
    "        advIndex = adv2Index[adv]\n",
    "        xTrain[count][advIndex] = adv2Click[adv]\n",
    "        count += 1\n",
    "        \n",
    "count = 0\n",
    "for dis in testData:\n",
    "    for adTuple in testData[dis]:\n",
    "        adID = adTuple[0]\n",
    "        y = adTuple[1]\n",
    "        if y == 0:\n",
    "            y = -1\n",
    "        adv = ad2Adv[adID]\n",
    "        # assign y value\n",
    "        yTest[count] = y\n",
    "        # assign x value\n",
    "        advIndex = adv2Index[adv]\n",
    "        if adv in adv2Click:\n",
    "            xTest[count][advIndex] = adv2Click[adv] + 1\n",
    "        else:\n",
    "            xTest[count][advIndex] = 1\n",
    "        count += 1\n",
    "\n",
    "# split test until each display ID\n",
    "xTestDict = dict()\n",
    "yTestDict = dict()\n",
    "xTestDict[0] = xTest[0:7,:]\n",
    "for i in range(len(testAdNum)-1):\n",
    "    xTestDict[i] = xTest[testAdNum[i]:testAdNum[i+1],:]\n",
    "    yTestDict[i] = yTest[testAdNum[i]:testAdNum[i+1]]"
   ]
  },
  {
   "cell_type": "code",
   "execution_count": 120,
   "metadata": {
    "collapsed": false
   },
   "outputs": [
    {
     "name": "stdout",
     "output_type": "stream",
     "text": [
      "Automatically created module for IPython interactive environment\n"
     ]
    }
   ],
   "source": [
    "print(__doc__)\n",
    "\n",
    "import random\n",
    "import numpy as np\n",
    "import matplotlib.pyplot as plt\n",
    "from sklearn import linear_model, datasets\n",
    "from sklearn import svm\n",
    "from sklearn.ensemble import RandomForestClassifier"
   ]
  },
  {
   "cell_type": "code",
   "execution_count": 121,
   "metadata": {
    "collapsed": false
   },
   "outputs": [
    {
     "name": "stdout",
     "output_type": "stream",
     "text": [
      "0.299389002037\n"
     ]
    }
   ],
   "source": [
    "# h = .2  # step size in the mesh\n",
    "clf = linear_model.LogisticRegression(C=1e5)\n",
    "# clf = svm.SVC(probability=True)\n",
    "# clf = RandomForestClassifier(n_estimators=10)\n",
    "clf.fit(xTrain, yTrain)\n",
    "totalCount = 0\n",
    "correctCount = 0\n",
    "\n",
    "for dis in xTestDict:\n",
    "    matrixSize = (xTestDict[dis]).shape\n",
    "    row = matrixSize[0]\n",
    "    maxProb = -float('inf')\n",
    "    prob  = 0\n",
    "    loc = 0\n",
    "    maxSet = []\n",
    "#     print 'oneDis'\n",
    "    for i in range(row):\n",
    "        eachX = xTestDict[dis][i,:]\n",
    "        #  X.reshape(1, -1) if it contains a single sample\n",
    "        eachX = eachX.reshape(1, -1)\n",
    "        allProb = clf.predict_proba(eachX)\n",
    "        prob = allProb[0][1]\n",
    "        # make prediction\n",
    "        if prob > maxProb:\n",
    "            maxProb = prob\n",
    "            maxSet = []\n",
    "            maxSet.append(i)\n",
    "#             print 'break'\n",
    "        elif prob == maxProb:\n",
    "            maxSet.append(i)\n",
    "#             print 'tie'\n",
    "#     print maxSet\n",
    "    # if tie pick one random\n",
    "    if len(maxSet) == 1:\n",
    "        loc = maxSet[0]\n",
    "    else:\n",
    "        loc = random.sample(maxSet, 1)\n",
    "    # get the accuracy\n",
    "    if yTestDict[dis][loc] == 1:\n",
    "        correctCount += 1\n",
    "    totalCount += 1\n",
    "        \n",
    "print float(correctCount)/totalCount"
   ]
  }
 ],
 "metadata": {
  "anaconda-cloud": {},
  "kernelspec": {
   "display_name": "Python [default]",
   "language": "python",
   "name": "python2"
  },
  "language_info": {
   "codemirror_mode": {
    "name": "ipython",
    "version": 2
   },
   "file_extension": ".py",
   "mimetype": "text/x-python",
   "name": "python",
   "nbconvert_exporter": "python",
   "pygments_lexer": "ipython2",
   "version": "2.7.12"
  }
 },
 "nbformat": 4,
 "nbformat_minor": 1
}
