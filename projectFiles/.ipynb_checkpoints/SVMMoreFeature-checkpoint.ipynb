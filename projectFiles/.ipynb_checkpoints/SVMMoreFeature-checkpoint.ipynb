{
 "cells": [
  {
   "cell_type": "code",
   "execution_count": 32,
   "metadata": {
    "collapsed": true
   },
   "outputs": [],
   "source": [
    "# load all data\n",
    "import pandas as pd\n",
    "import numpy as np\n",
    "trainLoad = pd.read_csv(\"clicks_train.csv\")\n",
    "testLoad = pd.read_csv(\"clicks_test.csv\")"
   ]
  },
  {
   "cell_type": "code",
   "execution_count": 33,
   "metadata": {
    "collapsed": true
   },
   "outputs": [],
   "source": [
    "# load promotedContent\n",
    "promotedContent = pd.read_csv(\"promoted_content.csv\")"
   ]
  },
  {
   "cell_type": "code",
   "execution_count": 34,
   "metadata": {
    "collapsed": true
   },
   "outputs": [],
   "source": [
    "# get portion of train and test from train_clicks\n",
    "train = trainLoad[0:10001]\n",
    "test = trainLoad[10001:10001+1000]"
   ]
  },
  {
   "cell_type": "code",
   "execution_count": 35,
   "metadata": {
    "collapsed": false
   },
   "outputs": [],
   "source": [
    "# make dictionary for train and test which make ad_id to click\n",
    "lenTrain = len(train)\n",
    "lenTest = len(test)\n",
    "ad2ClickTrain = dict()\n",
    "ad2ClickTest = dict()\n",
    "# for train data\n",
    "for i in range(lenTrain):\n",
    "    adID = train.loc[i][\"ad_id\"]\n",
    "    clickID = train.loc[i][\"clicked\"]\n",
    "    if adID not in ad2ClickTrain:\n",
    "        ad2ClickTrain[adID] = clickID\n",
    "    else:\n",
    "        ad2ClickTrain[adID] += clickID\n",
    "\n",
    "# for test data\n",
    "for i in range(lenTest):\n",
    "    adIDTest = test.loc[i+10001][\"ad_id\"]\n",
    "    clickIDTest = test.loc[i+10001][\"clicked\"]\n",
    "    if adIDTest not in ad2ClickTest:\n",
    "        ad2ClickTest[adIDTest] = clickIDTest\n",
    "    else:\n",
    "        ad2ClickTest[adIDTest] += clickIDTest"
   ]
  },
  {
   "cell_type": "code",
   "execution_count": 36,
   "metadata": {
    "collapsed": false
   },
   "outputs": [],
   "source": [
    "# get dict from campaign_id and advertise_id ad_id(features)\n",
    "totalLen = len(promotedContent)\n",
    "ad2Adv = dict()\n",
    "ad2Cam = dict()\n",
    "for i in range(totalLen):\n",
    "    adID = promotedContent.loc[i][\"ad_id\"]\n",
    "    advID = promotedContent.loc[i][\"advertiser_id\"]\n",
    "    camID = promotedContent.loc[i][\"campaign_id\"]\n",
    "    ad2Adv[adID] = advID\n",
    "    ad2Cam[adID] = camID"
   ]
  },
  {
   "cell_type": "code",
   "execution_count": 37,
   "metadata": {
    "collapsed": true
   },
   "outputs": [],
   "source": [
    "# make new dictionary on campaign_id and advertise_id which gets clicked\n",
    "cam2Click = dict()\n",
    "adv2Click = dict()\n",
    "for each in ad2ClickTrain:\n",
    "    adID = each\n",
    "    adv = ad2Adv[adID]\n",
    "    if adv not in adv2Click:\n",
    "        adv2Click[adv] = ad2ClickTrain[adID]\n",
    "    else:\n",
    "        adv2Click[adv] += ad2ClickTrain[adID]\n",
    "        \n",
    "    cam = ad2Cam[adID]\n",
    "    if cam not in cam2Click:\n",
    "        cam2Click[cam] = ad2ClickTrain[adID]\n",
    "    else:\n",
    "        cam2Click[cam] += ad2ClickTrain[adID]"
   ]
  },
  {
   "cell_type": "code",
   "execution_count": 38,
   "metadata": {
    "collapsed": false
   },
   "outputs": [
    {
     "name": "stdout",
     "output_type": "stream",
     "text": [
      "2556\n",
      "738\n"
     ]
    }
   ],
   "source": [
    "print len(cam2Click)\n",
    "print len(adv2Click)"
   ]
  },
  {
   "cell_type": "code",
   "execution_count": 39,
   "metadata": {
    "collapsed": true
   },
   "outputs": [],
   "source": [
    "import operator\n",
    "# get top 50 features for both adv and cam and create a feature theta dictionary for training later\n",
    "topAdvFeature = dict(sorted(adv2Click.iteritems(), key=operator.itemgetter(1), reverse=True)[:738])\n",
    "topCamFeature = dict(sorted(cam2Click.iteritems(), key=operator.itemgetter(1), reverse=True)[:2556])\n",
    "# print max(topCamFeature.values())\n",
    "# print max(topAdvFeature.values())\n",
    "thetaAdvDict = dict()\n",
    "thetaCamDict = dict()\n",
    "topAdvFeatureKeys = topAdvFeature.keys()\n",
    "topCamFeatureKeys = topCamFeature.keys()\n",
    "for i in range(len(topAdvFeatureKeys)):\n",
    "    thetaAdvDict[topAdvFeatureKeys[i]] = 0\n",
    "for i in range(len(topCamFeatureKeys)):\n",
    "    thetaCamDict[topCamFeatureKeys[i]] = 0"
   ]
  },
  {
   "cell_type": "code",
   "execution_count": 40,
   "metadata": {
    "collapsed": false
   },
   "outputs": [],
   "source": [
    "# load events\n",
    "event = pd.read_csv(\"events.csv\")"
   ]
  },
  {
   "cell_type": "code",
   "execution_count": 41,
   "metadata": {
    "collapsed": false
   },
   "outputs": [],
   "source": [
    "# make dict from display_id to document id\n",
    "lastDisID = max(train[\"display_id\"])\n",
    "lastDisIDTest = max(test[\"display_id\"])\n",
    "eventPartial = event[0:lastDisID+1]\n",
    "eventPartialTest = event[lastDisID+1:lastDisIDTest+1]\n",
    "dis2Doc = dict()\n",
    "dis2DocTest = dict()\n",
    "for i in range(len(eventPartial)):\n",
    "    dis2Doc[i] = eventPartial.loc[i][\"document_id\"]\n",
    "for i in range(len(eventPartialTest)):\n",
    "    dis2DocTest[lastDisID+1+i] = eventPartialTest.loc[lastDisID+1+i][\"document_id\"]\n"
   ]
  },
  {
   "cell_type": "code",
   "execution_count": 42,
   "metadata": {
    "collapsed": false
   },
   "outputs": [],
   "source": [
    "# feature that each add will be clicked under a kind of document\n",
    "# dict document to ad clicked times based on display_id\n",
    "doc2Ad = dict()\n",
    "lenTrain = len(train)\n",
    "displayID = train.loc[0][\"display_id\"]\n",
    "for i in range(lenTrain):\n",
    "    if (displayID == train.loc[i][\"display_id\"]):\n",
    "        if (train.loc[i][\"clicked\"] == 1):\n",
    "            adID = train.loc[i][\"ad_id\"]\n",
    "            if dis2Doc[displayID] not in doc2Ad:\n",
    "                doc2Ad[dis2Doc[displayID]] = dict()\n",
    "                doc2Ad[dis2Doc[displayID]][adID] = 1\n",
    "            else:\n",
    "                if adID not in doc2Ad[dis2Doc[displayID]]:\n",
    "                    doc2Ad[dis2Doc[displayID]][adID] = 1\n",
    "                else:\n",
    "                    doc2Ad[dis2Doc[displayID]][adID] += 1\n",
    "    else:\n",
    "        displayID += 1 # increment display id by one\n",
    "        if (train.loc[i][\"clicked\"] == 1):\n",
    "            adID = train.loc[i][\"ad_id\"]\n",
    "            if dis2Doc[displayID] not in doc2Ad:\n",
    "                doc2Ad[dis2Doc[displayID]] = dict()\n",
    "                doc2Ad[dis2Doc[displayID]][adID] = 1\n",
    "            else:\n",
    "                if adID not in doc2Ad[dis2Doc[displayID]]:\n",
    "                    doc2Ad[dis2Doc[displayID]][adID] = 1\n",
    "                else:\n",
    "                    doc2Ad[dis2Doc[displayID]][adID] += 1"
   ]
  },
  {
   "cell_type": "code",
   "execution_count": 1,
   "metadata": {
    "collapsed": false
   },
   "outputs": [],
   "source": [
    "# print doc2Ad # use topic id"
   ]
  },
  {
   "cell_type": "code",
   "execution_count": 105,
   "metadata": {
    "collapsed": false
   },
   "outputs": [],
   "source": [
    "# displayID = train.loc[0][\"display_id\"]\n",
    "# for i in range(len(train)):\n",
    "#     docID = dis2Doc[displayID]\n",
    "#     allAdID = doc2Ad[docID]\n"
   ]
  },
  {
   "cell_type": "code",
   "execution_count": null,
   "metadata": {
    "collapsed": true
   },
   "outputs": [],
   "source": [
    "# import operator\n",
    "# # get top 50 features for both adv and cam and create a feature theta dictionary for training later\n",
    "# topDocFeature = dict(sorted(adv2Click.iteritems(), key=operator.itemgetter(1), reverse=True)[:1959])"
   ]
  },
  {
   "cell_type": "code",
   "execution_count": 53,
   "metadata": {
    "collapsed": false
   },
   "outputs": [],
   "source": [
    "# implement SVM based on selected top 50 features\n",
    "totalItr = 5\n",
    "trainLen = len(train)\n",
    "eta = 0.1 # step size\n",
    "for itr in range(totalItr):\n",
    "    for i in range(trainLen):\n",
    "        y = train.loc[i][\"clicked\"] # clicked is 1, else is 0\n",
    "        # use y = 1 and -1 to run logistic regression\n",
    "        if y == 0:\n",
    "            y = -1\n",
    "        adID = train.loc[i]['ad_id']\n",
    "        adv = ad2Adv[adID]\n",
    "        cam = ad2Cam[adID]\n",
    "        \n",
    "        # update thetaAdvDict for adv, x is 1 which is indicator of feature\n",
    "        if adv in topAdvFeature:\n",
    "            if 1-y*thetaAdvDict[adv]*1 > 0:\n",
    "                JDerivative = -y*1\n",
    "            else:\n",
    "                JDerivative = 0\n",
    "            thetaAdvDict[adv] -= eta*JDerivative\n",
    "        # update thetaCamDict for cam\n",
    "        if cam in topCamFeature:\n",
    "            if 1-y*thetaCamDict[cam]*1 > 0:\n",
    "                JDerivative = -y*1\n",
    "            else: \n",
    "                JDerivative = 0\n",
    "            thetaCamDict[cam] -= eta*JDerivative"
   ]
  },
  {
   "cell_type": "code",
   "execution_count": 14,
   "metadata": {
    "collapsed": false
   },
   "outputs": [],
   "source": [
    "# # five iteration result\n",
    "# print thetaAdvDict\n",
    "# print ''\n",
    "# print topAdvFeature\n",
    "# print ''\n",
    "# print thetaCamDict\n",
    "# print ''\n",
    "# print topCamFeature"
   ]
  },
  {
   "cell_type": "code",
   "execution_count": 54,
   "metadata": {
    "collapsed": false
   },
   "outputs": [
    {
     "ename": "ValueError",
     "evalue": "sample larger than population",
     "output_type": "error",
     "traceback": [
      "\u001b[0;31m---------------------------------------------------------------------------\u001b[0m",
      "\u001b[0;31mValueError\u001b[0m                                Traceback (most recent call last)",
      "\u001b[0;32m<ipython-input-54-24a401b0eed5>\u001b[0m in \u001b[0;36m<module>\u001b[0;34m()\u001b[0m\n\u001b[1;32m     55\u001b[0m         \u001b[1;32melse\u001b[0m\u001b[1;33m:\u001b[0m\u001b[1;33m\u001b[0m\u001b[0m\n\u001b[1;32m     56\u001b[0m             \u001b[0mtie\u001b[0m \u001b[1;33m+=\u001b[0m \u001b[1;36m1\u001b[0m\u001b[1;33m\u001b[0m\u001b[0m\n\u001b[0;32m---> 57\u001b[0;31m             \u001b[0mmaxvalue\u001b[0m \u001b[1;33m=\u001b[0m \u001b[0mrandom\u001b[0m\u001b[1;33m.\u001b[0m\u001b[0msample\u001b[0m\u001b[1;33m(\u001b[0m\u001b[0mmaxset\u001b[0m\u001b[1;33m,\u001b[0m \u001b[1;36m1\u001b[0m\u001b[1;33m)\u001b[0m\u001b[1;33m\u001b[0m\u001b[0m\n\u001b[0m\u001b[1;32m     58\u001b[0m             \u001b[0mindex\u001b[0m \u001b[1;33m=\u001b[0m \u001b[0mmaxvalue\u001b[0m\u001b[1;33m[\u001b[0m\u001b[1;36m0\u001b[0m\u001b[1;33m]\u001b[0m\u001b[1;33m[\u001b[0m\u001b[1;36m0\u001b[0m\u001b[1;33m]\u001b[0m\u001b[1;33m\u001b[0m\u001b[0m\n\u001b[1;32m     59\u001b[0m         \u001b[0mtestResult\u001b[0m\u001b[1;33m.\u001b[0m\u001b[0mset_value\u001b[0m\u001b[1;33m(\u001b[0m\u001b[0mindex\u001b[0m\u001b[1;33m,\u001b[0m \u001b[1;34m'clicked'\u001b[0m\u001b[1;33m,\u001b[0m \u001b[1;36m1\u001b[0m\u001b[1;33m)\u001b[0m\u001b[1;33m\u001b[0m\u001b[0m\n",
      "\u001b[0;32mC:\\Users\\kongl\\Anaconda2\\lib\\random.pyc\u001b[0m in \u001b[0;36msample\u001b[0;34m(self, population, k)\u001b[0m\n\u001b[1;32m    321\u001b[0m         \u001b[0mn\u001b[0m \u001b[1;33m=\u001b[0m \u001b[0mlen\u001b[0m\u001b[1;33m(\u001b[0m\u001b[0mpopulation\u001b[0m\u001b[1;33m)\u001b[0m\u001b[1;33m\u001b[0m\u001b[0m\n\u001b[1;32m    322\u001b[0m         \u001b[1;32mif\u001b[0m \u001b[1;32mnot\u001b[0m \u001b[1;36m0\u001b[0m \u001b[1;33m<=\u001b[0m \u001b[0mk\u001b[0m \u001b[1;33m<=\u001b[0m \u001b[0mn\u001b[0m\u001b[1;33m:\u001b[0m\u001b[1;33m\u001b[0m\u001b[0m\n\u001b[0;32m--> 323\u001b[0;31m             \u001b[1;32mraise\u001b[0m \u001b[0mValueError\u001b[0m\u001b[1;33m(\u001b[0m\u001b[1;34m\"sample larger than population\"\u001b[0m\u001b[1;33m)\u001b[0m\u001b[1;33m\u001b[0m\u001b[0m\n\u001b[0m\u001b[1;32m    324\u001b[0m         \u001b[0mrandom\u001b[0m \u001b[1;33m=\u001b[0m \u001b[0mself\u001b[0m\u001b[1;33m.\u001b[0m\u001b[0mrandom\u001b[0m\u001b[1;33m\u001b[0m\u001b[0m\n\u001b[1;32m    325\u001b[0m         \u001b[0m_int\u001b[0m \u001b[1;33m=\u001b[0m \u001b[0mint\u001b[0m\u001b[1;33m\u001b[0m\u001b[0m\n",
      "\u001b[0;31mValueError\u001b[0m: sample larger than population"
     ]
    }
   ],
   "source": [
    "# make prediction on train\n",
    "from copy import deepcopy\n",
    "import random\n",
    "testResult = deepcopy(train)\n",
    "testLen = len(testResult)\n",
    "for i in range(0,testLen):\n",
    "    testResult.set_value(i, 'clicked', 0)\n",
    "    \n",
    "displayID = testResult.loc[0][\"display_id\"]\n",
    "maxHypo = 0\n",
    "maxset = []\n",
    "\n",
    "tie = 0\n",
    "\n",
    "for i in range(0,testLen):\n",
    "    if displayID == testResult.loc[i][\"display_id\"]:\n",
    "        # the same displayID\n",
    "        adID = testResult.loc[i]['ad_id']\n",
    "        adv = ad2Adv[adID]\n",
    "        cam = ad2Cam[adID]\n",
    "        \n",
    "        # add doc into testing\n",
    "        docID = dis2Doc[displayID]\n",
    "        if docID in doc2Ad:\n",
    "            if adID in doc2Ad[docID]:\n",
    "                hypoDoc = 5\n",
    "            else:\n",
    "                hypoDoc = 0\n",
    "        else:\n",
    "            hypoDoc = 0\n",
    "    \n",
    "        if adv in thetaAdvDict:\n",
    "            thetaAdv = thetaAdvDict[adv]\n",
    "            hypoAdv = 1-y*thetaAdvDict[adv]*1\n",
    "        else:\n",
    "            hypoAdv = 0\n",
    "        if cam in thetaCamDict:\n",
    "            thetaCam = thetaCamDict[cam]\n",
    "            hypoCam = 1-y*thetaCamDict[cam]*1\n",
    "        else:\n",
    "            hypoCam = 0\n",
    "        Hypo = hypoAdv + hypoCam + hypoDoc\n",
    "        Hpyo = max(0, Hypo)\n",
    "        if Hypo > maxHypo:\n",
    "            maxHypo = Hypo\n",
    "            maxset = []\n",
    "            maxset.append((i, adID))\n",
    "        elif Hypo == maxHypo:\n",
    "            maxset.append((i, adID))\n",
    "    else:\n",
    "        # make prediction\n",
    "        if len(maxset) == 1:\n",
    "            maxvalue = maxset[0]\n",
    "            index = maxvalue[0]\n",
    "        else:\n",
    "            tie += 1\n",
    "            maxvalue = random.sample(maxset, 1)\n",
    "            index = maxvalue[0][0]\n",
    "        testResult.set_value(index, 'clicked', 1)\n",
    "        # Start the next\n",
    "        maxHypo = 0\n",
    "        adID = testResult.loc[i]['ad_id']\n",
    "        adv = ad2Adv[adID]\n",
    "        cam = ad2Cam[adID]\n",
    "        \n",
    "        # add doc into testing\n",
    "        docID = dis2Doc[displayID]\n",
    "        if docID in doc2Ad:\n",
    "            if adID in doc2Ad[docID]:\n",
    "                hypoDoc = 5\n",
    "            else:\n",
    "                hypoDoc = 0\n",
    "        else:\n",
    "            hypoDoc = 0\n",
    "        \n",
    "        if adv in thetaAdvDict:\n",
    "            thetaAdv = thetaAdvDict[adv]\n",
    "            hypoAdv = 1-y*thetaAdvDict[adv]*1\n",
    "        else:\n",
    "            hypoAdv = 0\n",
    "        if cam in thetaCamDict:\n",
    "            thetaCam = thetaCamDict[cam]\n",
    "            hypoCam = 1-y*thetaCamDict[cam]*1\n",
    "        else:\n",
    "            hypoCam = 0\n",
    "        maxHypo = hypoAdv + hypoCam + hypoDoc\n",
    "#         maxHpyo = max(0, Hypo)\n",
    "        maxset = []\n",
    "        maxset.append((i, adID))\n",
    "        displayID = testResult.loc[i][\"display_id\"]\n",
    "            \n",
    "    if i == testLen-1:\n",
    "        if len(maxset) == 1:\n",
    "            maxvalue = maxset[0]\n",
    "            index = maxvalue[0]\n",
    "        else:\n",
    "            maxvalue = random.sample(maxset, 1)\n",
    "            index = maxvalue[0][0]\n",
    "        testResult.set_value(index, 'clicked', 1)"
   ]
  },
  {
   "cell_type": "code",
   "execution_count": 46,
   "metadata": {
    "collapsed": false
   },
   "outputs": [],
   "source": [
    "# make prediction on test\n",
    "from copy import deepcopy\n",
    "import random\n",
    "testResult = deepcopy(test)\n",
    "testLen = len(testResult)\n",
    "for i in range(0,testLen):\n",
    "    testResult.set_value(i+10001, 'clicked', 0)\n",
    "    \n",
    "displayID = testResult.loc[10001+0][\"display_id\"]\n",
    "maxHypo = 0\n",
    "maxset = []\n",
    "\n",
    "tie = 0\n",
    "\n",
    "for i in range(0,testLen):\n",
    "    if displayID == testResult.loc[10001+i][\"display_id\"]:\n",
    "        # the same displayID\n",
    "        adID = testResult.loc[10001+i]['ad_id']\n",
    "        adv = ad2Adv[adID]\n",
    "        cam = ad2Cam[adID]\n",
    "        \n",
    "        # add doc into testing\n",
    "        docID = dis2DocTest[displayID]\n",
    "        if docID in doc2Ad:\n",
    "            if adID in doc2Ad[docID]:\n",
    "                hypoDoc = 5\n",
    "            else:\n",
    "                hypoDoc = 0\n",
    "        else:\n",
    "            hypoDoc = 0\n",
    "    \n",
    "        if adv in thetaAdvDict:\n",
    "            thetaAdv = thetaAdvDict[adv]\n",
    "            hypoAdv = 1-y*thetaAdvDict[adv]*1\n",
    "        else:\n",
    "            hypoAdv = 0\n",
    "        if cam in thetaCamDict:\n",
    "            thetaCam = thetaCamDict[cam]\n",
    "            hypoCam = 1-y*thetaCamDict[cam]*1\n",
    "        else:\n",
    "            hypoCam = 0\n",
    "        Hypo = hypoAdv + hypoCam + hypoDoc\n",
    "        Hpyo = max(0, Hypo)\n",
    "        if Hypo > maxHypo:\n",
    "            maxHypo = Hypo\n",
    "            maxset = []\n",
    "            maxset.append((10001+i, adID))\n",
    "        elif Hypo == maxHypo:\n",
    "            maxset.append((10001+i, adID))\n",
    "    else:\n",
    "        # make prediction\n",
    "        if len(maxset) == 1:\n",
    "            maxvalue = maxset[0]\n",
    "            index = maxvalue[0]\n",
    "        else:\n",
    "            tie += 1\n",
    "            maxvalue = random.sample(maxset, 1)\n",
    "            index = maxvalue[0][0]\n",
    "        testResult.set_value(index, 'clicked', 1)\n",
    "        # Start the next\n",
    "        maxHypo = 0\n",
    "        adID = testResult.loc[10001+i]['ad_id']\n",
    "        adv = ad2Adv[adID]\n",
    "        cam = ad2Cam[adID]\n",
    "        \n",
    "        # add doc into testing\n",
    "        docID = dis2DocTest[displayID]\n",
    "        if docID in doc2Ad:\n",
    "            if adID in doc2Ad[docID]:\n",
    "                hypoDoc = 5\n",
    "            else:\n",
    "                hypoDoc = 0\n",
    "        else:\n",
    "            hypoDoc = 0\n",
    "        \n",
    "        if adv in thetaAdvDict:\n",
    "            thetaAdv = thetaAdvDict[adv]\n",
    "            hypoAdv = 1-y*thetaAdvDict[adv]*1\n",
    "        else:\n",
    "            hypoAdv = 0\n",
    "        if cam in thetaCamDict:\n",
    "            thetaCam = thetaCamDict[cam]\n",
    "            hypoCam = 1-y*thetaCamDict[cam]*1\n",
    "        else:\n",
    "            hypoCam = 0\n",
    "        maxHypo = hypoAdv + hypoCam + hypoDoc\n",
    "#         maxHpyo = max(0, Hypo)\n",
    "        maxset = []\n",
    "        maxset.append((10001+i, adID))\n",
    "        displayID = testResult.loc[10001+i][\"display_id\"]\n",
    "            \n",
    "    if i == testLen-1:\n",
    "        if len(maxset) == 1:\n",
    "            maxvalue = maxset[0]\n",
    "            index = maxvalue[0]\n",
    "        else:\n",
    "            maxvalue = random.sample(maxset, 1)\n",
    "            index = maxvalue[0][0]\n",
    "        testResult.set_value(index, 'clicked', 1)"
   ]
  },
  {
   "cell_type": "code",
   "execution_count": 20,
   "metadata": {
    "collapsed": false
   },
   "outputs": [
    {
     "name": "stdout",
     "output_type": "stream",
     "text": [
      "0.13567839196\n"
     ]
    }
   ],
   "source": [
    "print float(tie)/float(sum(test.clicked))"
   ]
  },
  {
   "cell_type": "code",
   "execution_count": 50,
   "metadata": {
    "collapsed": false
   },
   "outputs": [
    {
     "name": "stdout",
     "output_type": "stream",
     "text": [
      "0.879979570991\n"
     ]
    }
   ],
   "source": [
    "# print out percenrage on train\n",
    "displayID = testResult.loc[0][\"display_id\"]\n",
    "totalCount = 0\n",
    "count = 0\n",
    "for i in range(testLen):\n",
    "    if testResult.loc[i][\"clicked\"] == train.loc[i][\"clicked\"] and train.loc[i][\"clicked\"] == 1:\n",
    "        count += 1\n",
    "    if displayID != testResult.loc[i][\"display_id\"]:\n",
    "        totalCount += 1\n",
    "        displayID = testResult.loc[i][\"display_id\"]\n",
    "print float(count)/float(totalCount)"
   ]
  },
  {
   "cell_type": "code",
   "execution_count": 47,
   "metadata": {
    "collapsed": false
   },
   "outputs": [
    {
     "name": "stdout",
     "output_type": "stream",
     "text": [
      "0.353535353535\n"
     ]
    }
   ],
   "source": [
    "# print out percenrage on test\n",
    "displayID = testResult.loc[10001+0][\"display_id\"]\n",
    "totalCount = 0\n",
    "count = 0\n",
    "for i in range(testLen):\n",
    "    if testResult.loc[10001+i][\"clicked\"] == test.loc[10001+i][\"clicked\"] and test.loc[10001+i][\"clicked\"] == 1:\n",
    "        count += 1\n",
    "    if displayID != testResult.loc[10001+i][\"display_id\"]:\n",
    "        totalCount += 1\n",
    "        displayID = testResult.loc[10001+i][\"display_id\"]\n",
    "print float(count)/float(totalCount)"
   ]
  },
  {
   "cell_type": "code",
   "execution_count": 2,
   "metadata": {
    "collapsed": true
   },
   "outputs": [],
   "source": [
    "import numpy as np\n",
    "import matplotlib.pyplot as plt"
   ]
  },
  {
   "cell_type": "code",
   "execution_count": 3,
   "metadata": {
    "collapsed": false
   },
   "outputs": [
    {
     "data": {
      "image/png": "[encoded data removed]",
      "text/plain": [
       "<matplotlib.figure.Figure at 0x7a8dcf8>"
      ]
     },
     "metadata": {},
     "output_type": "display_data"
    }
   ],
   "source": [
    "# make plot for poster\n",
    "x = [0, 1, 2, 3, 4, 5, 6, 7, 8, 9, 10, 11, 12, 13, 14, 15, 16, 17, 18, 19, 20]\n",
    "y = [0, 0.1684909, 0.2449698, 0.2750905, 0.303440, 0.3416700, 0.3761667, 0.3943460, 0.3943460, 0.3943460, \n",
    "     0.4041342, 0.4141341, 0.4241324, 0.4343456, 0.434345, 0.433456, 0.4348578, 0.4341334, 0.433567, 0.4356795, 0.433464]\n",
    "yGuess = [0.15, 0.15, 0.14, 0.16, 0.17, 0.17, 0.17, 0.17, 0.17, 0.16, 0.17, 0.16, 0.17, 0.16, 0.16, 0.17, 0.17, 0.16, \n",
    "          0.17, 0.16, 0.16]\n",
    "xArray = np.array(x, np.int32)\n",
    "yArray = np.array(y, np.float)\n",
    "yGuessArray = np.array(yGuess, np.float)\n",
    "plt.plot(xArray, yArray, label='Logistic Regression')\n",
    "plt.plot(xArray, yGuessArray, label='Random Guess')\n",
    "plt.legend(loc='lower right')\n",
    "plt.xlabel('Number of Itr')\n",
    "plt.ylabel('Percentage of Accuracy')\n",
    "plt.title('Testing Accuracy vs. Number of Itr')\n",
    "plt.show()"
   ]
  }
 ],
 "metadata": {
  "anaconda-cloud": {},
  "kernelspec": {
   "display_name": "Python [default]",
   "language": "python",
   "name": "python2"
  },
  "language_info": {
   "codemirror_mode": {
    "name": "ipython",
    "version": 2
   },
   "file_extension": ".py",
   "mimetype": "text/x-python",
   "name": "python",
   "nbconvert_exporter": "python",
   "pygments_lexer": "ipython2",
   "version": "2.7.12"
  }
 },
 "nbformat": 4,
 "nbformat_minor": 1
}
